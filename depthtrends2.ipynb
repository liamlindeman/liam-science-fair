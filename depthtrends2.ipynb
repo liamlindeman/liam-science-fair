{
 "cells": [
  {
   "cell_type": "code",
   "execution_count": 1,
   "metadata": {},
   "outputs": [],
   "source": [
    "import geopandas as gpd\n",
    "import pandas as pd"
   ]
  },
  {
   "cell_type": "code",
   "execution_count": 2,
   "metadata": {},
   "outputs": [
    {
     "name": "stdout",
     "output_type": "stream",
     "text": [
      "<class 'geopandas.geodataframe.GeoDataFrame'>\n",
      "Index: 1767 entries, 0 to 124005\n",
      "Data columns (total 50 columns):\n",
      " #   Column              Non-Null Count  Dtype   \n",
      "---  ------              --------------  -----   \n",
      " 0   geometry            1767 non-null   geometry\n",
      " 1   OBJECTID            1767 non-null   int64   \n",
      " 2   landnum             1767 non-null   object  \n",
      " 3   County              1767 non-null   object  \n",
      " 4   parcel              1767 non-null   int64   \n",
      " 5   fundtxt             1767 non-null   object  \n",
      " 6   open_code           1767 non-null   int64   \n",
      " 7   leased              1767 non-null   object  \n",
      " 8   ke                  1767 non-null   object  \n",
      " 9   lse_code            1767 non-null   int64   \n",
      " 10  lse_seq             1767 non-null   int64   \n",
      " 11  effdate             1766 non-null   object  \n",
      " 12  expdate             1766 non-null   object  \n",
      " 13  perpetual           0 non-null      object  \n",
      " 14  aus                 1767 non-null   float64 \n",
      " 15  rolodex_            1767 non-null   int64   \n",
      " 16  full_name           1766 non-null   object  \n",
      " 17  trs                 1767 non-null   object  \n",
      " 18  legal               1767 non-null   object  \n",
      " 19  acres               1767 non-null   float64 \n",
      " 20  link                1766 non-null   object  \n",
      " 21  total_aus           1767 non-null   float64 \n",
      " 22  Shape__Are          1767 non-null   float64 \n",
      " 23  Shape__Len          1767 non-null   float64 \n",
      " 24  FID_left            1767 non-null   int64   \n",
      " 25  AREA_left           1767 non-null   float64 \n",
      " 26  PERIMETER_left      1767 non-null   float64 \n",
      " 27  QUADGRID__left      1767 non-null   int64   \n",
      " 28  QUADGRID_I_left     1767 non-null   int64   \n",
      " 29  QUAD_left           1767 non-null   int64   \n",
      " 30  NAME_left           1767 non-null   object  \n",
      " 31  TILE_NAME_left      1767 non-null   object  \n",
      " 32  LOCATION_left       1767 non-null   object  \n",
      " 33  LATLONG_ID_left     1744 non-null   object  \n",
      " 34  SHAPE_Leng_left     1767 non-null   float64 \n",
      " 35  SHAPE_Area_left     1767 non-null   float64 \n",
      " 36  nearest_quadrangle  1767 non-null   geometry\n",
      " 37  FID_right           1767 non-null   int64   \n",
      " 38  AREA_right          1767 non-null   float64 \n",
      " 39  PERIMETER_right     1767 non-null   float64 \n",
      " 40  QUADGRID__right     1767 non-null   int64   \n",
      " 41  QUADGRID_I_right    1767 non-null   int64   \n",
      " 42  QUAD_right          1767 non-null   int64   \n",
      " 43  NAME_right          1767 non-null   object  \n",
      " 44  TILE_NAME_right     1767 non-null   object  \n",
      " 45  LOCATION_right      1767 non-null   object  \n",
      " 46  LATLONG_ID_right    1767 non-null   object  \n",
      " 47  SHAPE_Leng_right    1767 non-null   float64 \n",
      " 48  SHAPE_Area_right    1767 non-null   float64 \n",
      " 49  lease_quadrangle    1767 non-null   geometry\n",
      "dtypes: float64(13), geometry(3), int64(14), object(20)\n",
      "memory usage: 704.0+ KB\n"
     ]
    }
   ],
   "source": [
    "leases = gpd.read_parquet(\"our_data/leases_with_nearest_quadrangles.parquet\")\n",
    "leases.info()"
   ]
  },
  {
   "cell_type": "code",
   "execution_count": 3,
   "metadata": {},
   "outputs": [
    {
     "name": "stdout",
     "output_type": "stream",
     "text": [
      "<class 'geopandas.geodataframe.GeoDataFrame'>\n",
      "RangeIndex: 14978 entries, 0 to 14977\n",
      "Data columns (total 7 columns):\n",
      " #   Column                 Non-Null Count  Dtype   \n",
      "---  ------                 --------------  -----   \n",
      " 0   wellid                 14978 non-null  int64   \n",
      " 1   SITE_LONGIT_DECIMAL    14978 non-null  float64 \n",
      " 2   SITE_LATITUDE_DECIMAL  14978 non-null  float64 \n",
      " 3   depth                  14978 non-null  object  \n",
      " 4   utc_seconds            14978 non-null  object  \n",
      " 5   depth_20_year_trend    14978 non-null  float64 \n",
      " 6   geometry               14978 non-null  geometry\n",
      "dtypes: float64(3), geometry(1), int64(1), object(2)\n",
      "memory usage: 819.2+ KB\n"
     ]
    }
   ],
   "source": [
    "from shapely import wkt\n",
    "wells = pd.read_parquet(\"our_data/wells_with_depth_trend.parquet\")\n",
    "wells['geometry'] = gpd.points_from_xy(\n",
    "    x=wells.SITE_LONGIT_DECIMAL, \n",
    "    y=wells.SITE_LATITUDE_DECIMAL, \n",
    "    crs=\"EPSG:4326\"\n",
    "    )\n",
    "wells = gpd.GeoDataFrame(data=wells, geometry='geometry')\n",
    "wells.info()"
   ]
  },
  {
   "cell_type": "code",
   "execution_count": null,
   "metadata": {},
   "outputs": [
    {
     "name": "stdout",
     "output_type": "stream",
     "text": [
      "<class 'geopandas.geodataframe.GeoDataFrame'>\n",
      "Index: 1767 entries, 0 to 124005\n",
      "Data columns (total 51 columns):\n",
      " #   Column               Non-Null Count  Dtype   \n",
      "---  ------               --------------  -----   \n",
      " 0   geometry             1767 non-null   geometry\n",
      " 1   OBJECTID             1767 non-null   int64   \n",
      " 2   landnum              1767 non-null   object  \n",
      " 3   County               1767 non-null   object  \n",
      " 4   parcel               1767 non-null   int64   \n",
      " 5   fundtxt              1767 non-null   object  \n",
      " 6   open_code            1767 non-null   int64   \n",
      " 7   leased               1767 non-null   object  \n",
      " 8   ke                   1767 non-null   object  \n",
      " 9   lse_code             1767 non-null   int64   \n",
      " 10  lse_seq              1767 non-null   int64   \n",
      " 11  effdate              1766 non-null   object  \n",
      " 12  expdate              1766 non-null   object  \n",
      " 13  perpetual            0 non-null      object  \n",
      " 14  aus                  1767 non-null   float64 \n",
      " 15  rolodex_             1767 non-null   int64   \n",
      " 16  full_name            1766 non-null   object  \n",
      " 17  trs                  1767 non-null   object  \n",
      " 18  legal                1767 non-null   object  \n",
      " 19  acres                1767 non-null   float64 \n",
      " 20  link                 1766 non-null   object  \n",
      " 21  total_aus            1767 non-null   float64 \n",
      " 22  Shape__Are           1767 non-null   float64 \n",
      " 23  Shape__Len           1767 non-null   float64 \n",
      " 24  FID_left             1767 non-null   int64   \n",
      " 25  AREA_left            1767 non-null   float64 \n",
      " 26  PERIMETER_left       1767 non-null   float64 \n",
      " 27  QUADGRID__left       1767 non-null   int64   \n",
      " 28  QUADGRID_I_left      1767 non-null   int64   \n",
      " 29  QUAD_left            1767 non-null   int64   \n",
      " 30  NAME_left            1767 non-null   object  \n",
      " 31  TILE_NAME_left       1767 non-null   object  \n",
      " 32  LOCATION_left        1767 non-null   object  \n",
      " 33  LATLONG_ID_left      1744 non-null   object  \n",
      " 34  SHAPE_Leng_left      1767 non-null   float64 \n",
      " 35  SHAPE_Area_left      1767 non-null   float64 \n",
      " 36  nearest_quadrangle   1767 non-null   geometry\n",
      " 37  FID_right            1767 non-null   int64   \n",
      " 38  AREA_right           1767 non-null   float64 \n",
      " 39  PERIMETER_right      1767 non-null   float64 \n",
      " 40  QUADGRID__right      1767 non-null   int64   \n",
      " 41  QUADGRID_I_right     1767 non-null   int64   \n",
      " 42  QUAD_right           1767 non-null   int64   \n",
      " 43  NAME_right           1767 non-null   object  \n",
      " 44  TILE_NAME_right      1767 non-null   object  \n",
      " 45  LOCATION_right       1767 non-null   object  \n",
      " 46  LATLONG_ID_right     1767 non-null   object  \n",
      " 47  SHAPE_Leng_right     1767 non-null   float64 \n",
      " 48  SHAPE_Area_right     1767 non-null   float64 \n",
      " 49  lease_quadrangle     1767 non-null   geometry\n",
      " 50  depth_20_year_trend  460 non-null    float64 \n",
      "dtypes: float64(14), geometry(3), int64(14), object(20)\n",
      "memory usage: 717.8+ KB\n"
     ]
    }
   ],
   "source": [
    "wells_on_lease = gpd.sjoin(left_df=leases, right_df=wells, how='left', predicate=\"contains\")\n",
    "wells_on_lease = wells_on_lease.groupby(\"lease_\").agg({\n",
    "    'depth_20_year_trend':'mean',\n",
    "    })\n",
    "leases_with_depth_trend = leases.merge(wells_on_lease, on=\"lease_\", suffixes = [\"\", \"_y\"])\n",
    "leases_with_depth_trend.info()\n",
    "# leases = gpd.join(left_df=leases, right_df = joined_data, on=\"lease_\")"
   ]
  },
  {
   "cell_type": "code",
   "execution_count": null,
   "metadata": {},
   "outputs": [
    {
     "data": {
      "text/html": [
       "<div>\n",
       "<style scoped>\n",
       "    .dataframe tbody tr th:only-of-type {\n",
       "        vertical-align: middle;\n",
       "    }\n",
       "\n",
       "    .dataframe tbody tr th {\n",
       "        vertical-align: top;\n",
       "    }\n",
       "\n",
       "    .dataframe thead th {\n",
       "        text-align: right;\n",
       "    }\n",
       "</style>\n",
       "<table border=\"1\" class=\"dataframe\">\n",
       "  <thead>\n",
       "    <tr style=\"text-align: right;\">\n",
       "      <th></th>\n",
       "      <th>depth_20_year_trend</th>\n",
       "    </tr>\n",
       "    <tr>\n",
       "      <th>lease_</th>\n",
       "      <th></th>\n",
       "    </tr>\n",
       "  </thead>\n",
       "  <tbody>\n",
       "    <tr>\n",
       "      <th>0</th>\n",
       "      <td>19.406827</td>\n",
       "    </tr>\n",
       "    <tr>\n",
       "      <th>1</th>\n",
       "      <td>8.511935</td>\n",
       "    </tr>\n",
       "    <tr>\n",
       "      <th>4</th>\n",
       "      <td>10.865493</td>\n",
       "    </tr>\n",
       "    <tr>\n",
       "      <th>6</th>\n",
       "      <td>257.827542</td>\n",
       "    </tr>\n",
       "    <tr>\n",
       "      <th>7</th>\n",
       "      <td>NaN</td>\n",
       "    </tr>\n",
       "    <tr>\n",
       "      <th>...</th>\n",
       "      <td>...</td>\n",
       "    </tr>\n",
       "    <tr>\n",
       "      <th>123642</th>\n",
       "      <td>NaN</td>\n",
       "    </tr>\n",
       "    <tr>\n",
       "      <th>123719</th>\n",
       "      <td>NaN</td>\n",
       "    </tr>\n",
       "    <tr>\n",
       "      <th>123815</th>\n",
       "      <td>NaN</td>\n",
       "    </tr>\n",
       "    <tr>\n",
       "      <th>123960</th>\n",
       "      <td>NaN</td>\n",
       "    </tr>\n",
       "    <tr>\n",
       "      <th>124005</th>\n",
       "      <td>NaN</td>\n",
       "    </tr>\n",
       "  </tbody>\n",
       "</table>\n",
       "<p>1767 rows × 1 columns</p>\n",
       "</div>"
      ],
      "text/plain": [
       "        depth_20_year_trend\n",
       "lease_                     \n",
       "0                 19.406827\n",
       "1                  8.511935\n",
       "4                 10.865493\n",
       "6                257.827542\n",
       "7                       NaN\n",
       "...                     ...\n",
       "123642                  NaN\n",
       "123719                  NaN\n",
       "123815                  NaN\n",
       "123960                  NaN\n",
       "124005                  NaN\n",
       "\n",
       "[1767 rows x 1 columns]"
      ]
     },
     "execution_count": 39,
     "metadata": {},
     "output_type": "execute_result"
    }
   ],
   "source": [
    "wells_on_lease"
   ]
  },
  {
   "cell_type": "code",
   "execution_count": null,
   "metadata": {},
   "outputs": [
    {
     "data": {
      "text/plain": [
       "<pandas.core.groupby.generic.DataFrameGroupBy object at 0x000001C483EEB690>"
      ]
     },
     "execution_count": 40,
     "metadata": {},
     "output_type": "execute_result"
    }
   ],
   "source": [
    "wells_on_nearest_quadrangle"
   ]
  },
  {
   "cell_type": "code",
   "execution_count": null,
   "metadata": {},
   "outputs": [
    {
     "name": "stdout",
     "output_type": "stream",
     "text": [
      "<class 'pandas.core.frame.DataFrame'>\n",
      "Index: 1767 entries, 0 to 124005\n",
      "Data columns (total 1 columns):\n",
      " #   Column                      Non-Null Count  Dtype  \n",
      "---  ------                      --------------  -----  \n",
      " 0   nearby_depth_20_year_trend  1101 non-null   float64\n",
      "dtypes: float64(1)\n",
      "memory usage: 27.6 KB\n"
     ]
    }
   ],
   "source": [
    "leases = leases.set_geometry(\"nearest_quadrangle\").set_crs(crs=3857)\n",
    "leases = leases.set_geometry(\"nearest_quadrangle\").to_crs(crs=4326)\n",
    "# leases = leases.set_geometry(\"nearest_quadrangle\").set_crs(\"EPSG:4326\")\n",
    "wells_on_nearest_quadrangle = gpd.sjoin(left_df=leases, right_df=wells, how='left', predicate=\"contains\")\n",
    "wells_on_nearest_quadrangle = wells_on_nearest_quadrangle.groupby(\"lease_\").agg({\n",
    "    'depth_20_year_trend':'mean',\n",
    "    })\n",
    "wells_on_nearest_quadrangle = wells_on_nearest_quadrangle.rename(columns ={'depth_20_year_trend':'nearby_depth_20_year_trend'})\n",
    "wells_on_nearest_quadrangle.info()\n",
    "leases_with_depth_trend = leases_with_depth_trend.merge(wells_on_nearest_quadrangle, on=\"lease_\", suffixes=[\"\", \"_x\"])"
   ]
  },
  {
   "cell_type": "code",
   "execution_count": null,
   "metadata": {},
   "outputs": [],
   "source": [
    "leases = leases.set_geometry(\"lease_quadrangle\").set_crs(crs=3857)\n",
    "leases = leases.set_geometry(\"lease_quadrangle\").to_crs(crs=4326)\n",
    "# leases = leases.drop(['index_right'], axis=1)\n",
    "\n",
    "wells_on_lease_quadrangle = gpd.sjoin(left_df=leases, right_df=wells, how='left', predicate=\"contains\")\n",
    "wells_on_lease_quadrangle = wells_on_lease_quadrangle.groupby(\"lease_\").agg({\n",
    "    'depth_20_year_trend':'mean',\n",
    "    })\n",
    "wells_on_lease_quadrangle = wells_on_lease_quadrangle.rename(columns ={'depth_20_year_trend':'lease_quadrangle_depth_20_year_trend'})\n",
    "leases_with_depth_trend = leases_with_depth_trend.merge(wells_on_lease_quadrangle, on=\"lease_\", suffixes=[\"\", \"_x\"])"
   ]
  },
  {
   "cell_type": "code",
   "execution_count": null,
   "metadata": {},
   "outputs": [
    {
     "name": "stdout",
     "output_type": "stream",
     "text": [
      "<class 'geopandas.geodataframe.GeoDataFrame'>\n",
      "Index: 1767 entries, 0 to 124005\n",
      "Data columns (total 53 columns):\n",
      " #   Column                                Non-Null Count  Dtype   \n",
      "---  ------                                --------------  -----   \n",
      " 0   geometry                              1767 non-null   geometry\n",
      " 1   OBJECTID                              1767 non-null   int64   \n",
      " 2   landnum                               1767 non-null   object  \n",
      " 3   County                                1767 non-null   object  \n",
      " 4   parcel                                1767 non-null   int64   \n",
      " 5   fundtxt                               1767 non-null   object  \n",
      " 6   open_code                             1767 non-null   int64   \n",
      " 7   leased                                1767 non-null   object  \n",
      " 8   ke                                    1767 non-null   object  \n",
      " 9   lse_code                              1767 non-null   int64   \n",
      " 10  lse_seq                               1767 non-null   int64   \n",
      " 11  effdate                               1766 non-null   object  \n",
      " 12  expdate                               1766 non-null   object  \n",
      " 13  perpetual                             0 non-null      object  \n",
      " 14  aus                                   1767 non-null   float64 \n",
      " 15  rolodex_                              1767 non-null   int64   \n",
      " 16  full_name                             1766 non-null   object  \n",
      " 17  trs                                   1767 non-null   object  \n",
      " 18  legal                                 1767 non-null   object  \n",
      " 19  acres                                 1767 non-null   float64 \n",
      " 20  link                                  1766 non-null   object  \n",
      " 21  total_aus                             1767 non-null   float64 \n",
      " 22  Shape__Are                            1767 non-null   float64 \n",
      " 23  Shape__Len                            1767 non-null   float64 \n",
      " 24  FID_left                              1767 non-null   int64   \n",
      " 25  AREA_left                             1767 non-null   float64 \n",
      " 26  PERIMETER_left                        1767 non-null   float64 \n",
      " 27  QUADGRID__left                        1767 non-null   int64   \n",
      " 28  QUADGRID_I_left                       1767 non-null   int64   \n",
      " 29  QUAD_left                             1767 non-null   int64   \n",
      " 30  NAME_left                             1767 non-null   object  \n",
      " 31  TILE_NAME_left                        1767 non-null   object  \n",
      " 32  LOCATION_left                         1767 non-null   object  \n",
      " 33  LATLONG_ID_left                       1744 non-null   object  \n",
      " 34  SHAPE_Leng_left                       1767 non-null   float64 \n",
      " 35  SHAPE_Area_left                       1767 non-null   float64 \n",
      " 36  nearest_quadrangle                    1767 non-null   geometry\n",
      " 37  FID_right                             1767 non-null   int64   \n",
      " 38  AREA_right                            1767 non-null   float64 \n",
      " 39  PERIMETER_right                       1767 non-null   float64 \n",
      " 40  QUADGRID__right                       1767 non-null   int64   \n",
      " 41  QUADGRID_I_right                      1767 non-null   int64   \n",
      " 42  QUAD_right                            1767 non-null   int64   \n",
      " 43  NAME_right                            1767 non-null   object  \n",
      " 44  TILE_NAME_right                       1767 non-null   object  \n",
      " 45  LOCATION_right                        1767 non-null   object  \n",
      " 46  LATLONG_ID_right                      1767 non-null   object  \n",
      " 47  SHAPE_Leng_right                      1767 non-null   float64 \n",
      " 48  SHAPE_Area_right                      1767 non-null   float64 \n",
      " 49  lease_quadrangle                      1767 non-null   geometry\n",
      " 50  depth_20_year_trend                   460 non-null    float64 \n",
      " 51  nearby_depth_20_year_trend            1101 non-null   float64 \n",
      " 52  lease_quadrangle_depth_20_year_trend  1523 non-null   float64 \n",
      "dtypes: float64(16), geometry(3), int64(14), object(20)\n",
      "memory usage: 745.5+ KB\n",
      "['geometry' 'OBJECTID' 'landnum' 'County' 'parcel' 'fundtxt' 'open_code'\n",
      " 'leased' 'ke' 'lse_code' 'lse_seq' 'effdate' 'expdate' 'perpetual' 'aus'\n",
      " 'rolodex_' 'full_name' 'trs' 'legal' 'acres' 'link' 'total_aus'\n",
      " 'Shape__Are' 'Shape__Len' 'FID_left' 'AREA_left' 'PERIMETER_left'\n",
      " 'QUADGRID__left' 'QUADGRID_I_left' 'QUAD_left' 'NAME_left'\n",
      " 'TILE_NAME_left' 'LOCATION_left' 'LATLONG_ID_left' 'SHAPE_Leng_left'\n",
      " 'SHAPE_Area_left' 'nearest_quadrangle' 'FID_right' 'AREA_right'\n",
      " 'PERIMETER_right' 'QUADGRID__right' 'QUADGRID_I_right' 'QUAD_right'\n",
      " 'NAME_right' 'TILE_NAME_right' 'LOCATION_right' 'LATLONG_ID_right'\n",
      " 'SHAPE_Leng_right' 'SHAPE_Area_right' 'lease_quadrangle'\n",
      " 'depth_20_year_trend' 'nearby_depth_20_year_trend'\n",
      " 'lease_quadrangle_depth_20_year_trend']\n"
     ]
    }
   ],
   "source": [
    "leases_with_depth_trend.info()\n",
    "print(leases_with_depth_trend.columns.values)"
   ]
  },
  {
   "cell_type": "code",
   "execution_count": null,
   "metadata": {},
   "outputs": [],
   "source": []
  },
  {
   "cell_type": "code",
   "execution_count": null,
   "metadata": {},
   "outputs": [
    {
     "name": "stdout",
     "output_type": "stream",
     "text": [
      "28.717290110539743\n",
      "-58.24896613236815\n",
      "22.302963468363508\n"
     ]
    }
   ],
   "source": [
    "print(leases_with_depth_trend[\"depth_20_year_trend\"].mean())\n",
    "print(leases_with_depth_trend[\"lease_quadrangle_depth_20_year_trend\"].mean())\n",
    "print(leases_with_depth_trend[\"nearby_depth_20_year_trend\"].mean())"
   ]
  },
  {
   "cell_type": "code",
   "execution_count": null,
   "metadata": {},
   "outputs": [
    {
     "ename": "KeyboardInterrupt",
     "evalue": "",
     "output_type": "error",
     "traceback": [
      "\u001b[1;31m---------------------------------------------------------------------------\u001b[0m",
      "\u001b[1;31mKeyboardInterrupt\u001b[0m                         Traceback (most recent call last)",
      "Cell \u001b[1;32mIn[45], line 1\u001b[0m\n\u001b[1;32m----> 1\u001b[0m leases_with_depth_trend\u001b[38;5;241m.\u001b[39mto_parquet(\u001b[38;5;124m\"\u001b[39m\u001b[38;5;124mour_data/processed_data.parquet\u001b[39m\u001b[38;5;124m\"\u001b[39m)\n",
      "File \u001b[1;32mc:\\Users\\liamw\\anaconda3\\Lib\\site-packages\\geopandas\\geodataframe.py:1102\u001b[0m, in \u001b[0;36mGeoDataFrame.to_parquet\u001b[1;34m(self, path, index, compression, schema_version, **kwargs)\u001b[0m\n\u001b[0;32m   1095\u001b[0m     \u001b[38;5;28;01mraise\u001b[39;00m \u001b[38;5;167;01mValueError\u001b[39;00m(\n\u001b[0;32m   1096\u001b[0m         \u001b[38;5;124mf\u001b[39m\u001b[38;5;124m\"\u001b[39m\u001b[38;5;124mGeoPandas only supports using pyarrow as the engine for \u001b[39m\u001b[38;5;124m\"\u001b[39m\n\u001b[0;32m   1097\u001b[0m         \u001b[38;5;124mf\u001b[39m\u001b[38;5;124m\"\u001b[39m\u001b[38;5;124mto_parquet: \u001b[39m\u001b[38;5;132;01m{\u001b[39;00mengine\u001b[38;5;132;01m!r}\u001b[39;00m\u001b[38;5;124m passed instead.\u001b[39m\u001b[38;5;124m\"\u001b[39m\n\u001b[0;32m   1098\u001b[0m     )\n\u001b[0;32m   1100\u001b[0m \u001b[38;5;28;01mfrom\u001b[39;00m \u001b[38;5;21;01mgeopandas\u001b[39;00m\u001b[38;5;21;01m.\u001b[39;00m\u001b[38;5;21;01mio\u001b[39;00m\u001b[38;5;21;01m.\u001b[39;00m\u001b[38;5;21;01marrow\u001b[39;00m \u001b[38;5;28;01mimport\u001b[39;00m _to_parquet\n\u001b[1;32m-> 1102\u001b[0m _to_parquet(\n\u001b[0;32m   1103\u001b[0m     \u001b[38;5;28mself\u001b[39m,\n\u001b[0;32m   1104\u001b[0m     path,\n\u001b[0;32m   1105\u001b[0m     compression\u001b[38;5;241m=\u001b[39mcompression,\n\u001b[0;32m   1106\u001b[0m     index\u001b[38;5;241m=\u001b[39mindex,\n\u001b[0;32m   1107\u001b[0m     schema_version\u001b[38;5;241m=\u001b[39mschema_version,\n\u001b[0;32m   1108\u001b[0m     \u001b[38;5;241m*\u001b[39m\u001b[38;5;241m*\u001b[39mkwargs,\n\u001b[0;32m   1109\u001b[0m )\n",
      "File \u001b[1;32mc:\\Users\\liamw\\anaconda3\\Lib\\site-packages\\geopandas\\io\\arrow.py:337\u001b[0m, in \u001b[0;36m_to_parquet\u001b[1;34m(df, path, index, compression, schema_version, **kwargs)\u001b[0m\n\u001b[0;32m    334\u001b[0m         schema_version \u001b[38;5;241m=\u001b[39m kwargs\u001b[38;5;241m.\u001b[39mpop(\u001b[38;5;124m\"\u001b[39m\u001b[38;5;124mversion\u001b[39m\u001b[38;5;124m\"\u001b[39m)\n\u001b[0;32m    336\u001b[0m path \u001b[38;5;241m=\u001b[39m _expand_user(path)\n\u001b[1;32m--> 337\u001b[0m table \u001b[38;5;241m=\u001b[39m _geopandas_to_arrow(df, index\u001b[38;5;241m=\u001b[39mindex, schema_version\u001b[38;5;241m=\u001b[39mschema_version)\n\u001b[0;32m    338\u001b[0m parquet\u001b[38;5;241m.\u001b[39mwrite_table(table, path, compression\u001b[38;5;241m=\u001b[39mcompression, \u001b[38;5;241m*\u001b[39m\u001b[38;5;241m*\u001b[39mkwargs)\n",
      "File \u001b[1;32mc:\\Users\\liamw\\anaconda3\\Lib\\site-packages\\geopandas\\io\\arrow.py:276\u001b[0m, in \u001b[0;36m_geopandas_to_arrow\u001b[1;34m(df, index, schema_version)\u001b[0m\n\u001b[0;32m    267\u001b[0m             warnings\u001b[38;5;241m.\u001b[39mwarn(\n\u001b[0;32m    268\u001b[0m                 \u001b[38;5;124m\"\u001b[39m\u001b[38;5;124mThe GeoDataFrame contains 3D geometries, and when using \u001b[39m\u001b[38;5;124m\"\u001b[39m\n\u001b[0;32m    269\u001b[0m                 \u001b[38;5;124m\"\u001b[39m\u001b[38;5;124mshapely < 2.0, such geometries will be written not exactly \u001b[39m\u001b[38;5;124m\"\u001b[39m\n\u001b[1;32m   (...)\u001b[0m\n\u001b[0;32m    273\u001b[0m                 stacklevel\u001b[38;5;241m=\u001b[39m\u001b[38;5;241m2\u001b[39m,\n\u001b[0;32m    274\u001b[0m             )\n\u001b[0;32m    275\u001b[0m             \u001b[38;5;28;01mbreak\u001b[39;00m\n\u001b[1;32m--> 276\u001b[0m df \u001b[38;5;241m=\u001b[39m df\u001b[38;5;241m.\u001b[39mto_wkb(\u001b[38;5;241m*\u001b[39m\u001b[38;5;241m*\u001b[39mkwargs)\n\u001b[0;32m    278\u001b[0m table \u001b[38;5;241m=\u001b[39m Table\u001b[38;5;241m.\u001b[39mfrom_pandas(df, preserve_index\u001b[38;5;241m=\u001b[39mindex)\n\u001b[0;32m    280\u001b[0m \u001b[38;5;66;03m# Store geopandas specific file-level metadata\u001b[39;00m\n\u001b[0;32m    281\u001b[0m \u001b[38;5;66;03m# This must be done AFTER creating the table or it is not persisted\u001b[39;00m\n",
      "File \u001b[1;32mc:\\Users\\liamw\\anaconda3\\Lib\\site-packages\\geopandas\\geodataframe.py:1014\u001b[0m, in \u001b[0;36mGeoDataFrame.to_wkb\u001b[1;34m(self, hex, **kwargs)\u001b[0m\n\u001b[0;32m   1012\u001b[0m \u001b[38;5;66;03m# Encode all geometry columns to WKB\u001b[39;00m\n\u001b[0;32m   1013\u001b[0m \u001b[38;5;28;01mfor\u001b[39;00m col \u001b[38;5;129;01min\u001b[39;00m df\u001b[38;5;241m.\u001b[39mcolumns[df\u001b[38;5;241m.\u001b[39mdtypes \u001b[38;5;241m==\u001b[39m \u001b[38;5;124m\"\u001b[39m\u001b[38;5;124mgeometry\u001b[39m\u001b[38;5;124m\"\u001b[39m]:\n\u001b[1;32m-> 1014\u001b[0m     df[col] \u001b[38;5;241m=\u001b[39m to_wkb(df[col]\u001b[38;5;241m.\u001b[39mvalues, \u001b[38;5;28mhex\u001b[39m\u001b[38;5;241m=\u001b[39m\u001b[38;5;28mhex\u001b[39m, \u001b[38;5;241m*\u001b[39m\u001b[38;5;241m*\u001b[39mkwargs)\n\u001b[0;32m   1016\u001b[0m \u001b[38;5;28;01mreturn\u001b[39;00m df\n",
      "File \u001b[1;32mc:\\Users\\liamw\\anaconda3\\Lib\\site-packages\\geopandas\\array.py:194\u001b[0m, in \u001b[0;36mto_wkb\u001b[1;34m(geoms, hex, **kwargs)\u001b[0m\n\u001b[0;32m    192\u001b[0m \u001b[38;5;28;01mif\u001b[39;00m \u001b[38;5;129;01mnot\u001b[39;00m \u001b[38;5;28misinstance\u001b[39m(geoms, GeometryArray):\n\u001b[0;32m    193\u001b[0m     \u001b[38;5;28;01mraise\u001b[39;00m \u001b[38;5;167;01mValueError\u001b[39;00m(\u001b[38;5;124m\"\u001b[39m\u001b[38;5;124m'\u001b[39m\u001b[38;5;124mgeoms\u001b[39m\u001b[38;5;124m'\u001b[39m\u001b[38;5;124m must be a GeometryArray\u001b[39m\u001b[38;5;124m\"\u001b[39m)\n\u001b[1;32m--> 194\u001b[0m \u001b[38;5;28;01mreturn\u001b[39;00m vectorized\u001b[38;5;241m.\u001b[39mto_wkb(geoms\u001b[38;5;241m.\u001b[39m_data, \u001b[38;5;28mhex\u001b[39m\u001b[38;5;241m=\u001b[39m\u001b[38;5;28mhex\u001b[39m, \u001b[38;5;241m*\u001b[39m\u001b[38;5;241m*\u001b[39mkwargs)\n",
      "File \u001b[1;32mc:\\Users\\liamw\\anaconda3\\Lib\\site-packages\\geopandas\\_vectorized.py:195\u001b[0m, in \u001b[0;36mto_wkb\u001b[1;34m(data, hex, **kwargs)\u001b[0m\n\u001b[0;32m    193\u001b[0m \u001b[38;5;28;01mdef\u001b[39;00m \u001b[38;5;21mto_wkb\u001b[39m(data, \u001b[38;5;28mhex\u001b[39m\u001b[38;5;241m=\u001b[39m\u001b[38;5;28;01mFalse\u001b[39;00m, \u001b[38;5;241m*\u001b[39m\u001b[38;5;241m*\u001b[39mkwargs):\n\u001b[0;32m    194\u001b[0m     \u001b[38;5;28;01mif\u001b[39;00m compat\u001b[38;5;241m.\u001b[39mUSE_SHAPELY_20:\n\u001b[1;32m--> 195\u001b[0m         \u001b[38;5;28;01mreturn\u001b[39;00m shapely\u001b[38;5;241m.\u001b[39mto_wkb(data, \u001b[38;5;28mhex\u001b[39m\u001b[38;5;241m=\u001b[39m\u001b[38;5;28mhex\u001b[39m, \u001b[38;5;241m*\u001b[39m\u001b[38;5;241m*\u001b[39mkwargs)\n\u001b[0;32m    196\u001b[0m     \u001b[38;5;28;01melif\u001b[39;00m compat\u001b[38;5;241m.\u001b[39mUSE_PYGEOS:\n\u001b[0;32m    197\u001b[0m         \u001b[38;5;28;01mreturn\u001b[39;00m pygeos\u001b[38;5;241m.\u001b[39mto_wkb(data, \u001b[38;5;28mhex\u001b[39m\u001b[38;5;241m=\u001b[39m\u001b[38;5;28mhex\u001b[39m, \u001b[38;5;241m*\u001b[39m\u001b[38;5;241m*\u001b[39mkwargs)\n",
      "\u001b[1;31mKeyboardInterrupt\u001b[0m: "
     ]
    }
   ],
   "source": [
    "leases_with_depth_trend.to_parquet(\"our_data/processed_data.parquet\")"
   ]
  },
  {
   "cell_type": "code",
   "execution_count": null,
   "metadata": {},
   "outputs": [
    {
     "ename": "KeyboardInterrupt",
     "evalue": "",
     "output_type": "error",
     "traceback": [
      "\u001b[1;31m---------------------------------------------------------------------------\u001b[0m",
      "\u001b[1;31mKeyboardInterrupt\u001b[0m                         Traceback (most recent call last)",
      "Cell \u001b[1;32mIn[33], line 1\u001b[0m\n\u001b[1;32m----> 1\u001b[0m leases_with_depth_trend\u001b[38;5;241m.\u001b[39mhead()\n",
      "File \u001b[1;32mc:\\Users\\liamw\\anaconda3\\Lib\\site-packages\\IPython\\core\\displayhook.py:268\u001b[0m, in \u001b[0;36mDisplayHook.__call__\u001b[1;34m(self, result)\u001b[0m\n\u001b[0;32m    266\u001b[0m \u001b[38;5;28mself\u001b[39m\u001b[38;5;241m.\u001b[39mstart_displayhook()\n\u001b[0;32m    267\u001b[0m \u001b[38;5;28mself\u001b[39m\u001b[38;5;241m.\u001b[39mwrite_output_prompt()\n\u001b[1;32m--> 268\u001b[0m format_dict, md_dict \u001b[38;5;241m=\u001b[39m \u001b[38;5;28mself\u001b[39m\u001b[38;5;241m.\u001b[39mcompute_format_data(result)\n\u001b[0;32m    269\u001b[0m \u001b[38;5;28mself\u001b[39m\u001b[38;5;241m.\u001b[39mupdate_user_ns(result)\n\u001b[0;32m    270\u001b[0m \u001b[38;5;28mself\u001b[39m\u001b[38;5;241m.\u001b[39mfill_exec_result(result)\n",
      "File \u001b[1;32mc:\\Users\\liamw\\anaconda3\\Lib\\site-packages\\IPython\\core\\displayhook.py:157\u001b[0m, in \u001b[0;36mDisplayHook.compute_format_data\u001b[1;34m(self, result)\u001b[0m\n\u001b[0;32m    127\u001b[0m \u001b[38;5;28;01mdef\u001b[39;00m \u001b[38;5;21mcompute_format_data\u001b[39m(\u001b[38;5;28mself\u001b[39m, result):\n\u001b[0;32m    128\u001b[0m \u001b[38;5;250m    \u001b[39m\u001b[38;5;124;03m\"\"\"Compute format data of the object to be displayed.\u001b[39;00m\n\u001b[0;32m    129\u001b[0m \n\u001b[0;32m    130\u001b[0m \u001b[38;5;124;03m    The format data is a generalization of the :func:`repr` of an object.\u001b[39;00m\n\u001b[1;32m   (...)\u001b[0m\n\u001b[0;32m    155\u001b[0m \n\u001b[0;32m    156\u001b[0m \u001b[38;5;124;03m    \"\"\"\u001b[39;00m\n\u001b[1;32m--> 157\u001b[0m     \u001b[38;5;28;01mreturn\u001b[39;00m \u001b[38;5;28mself\u001b[39m\u001b[38;5;241m.\u001b[39mshell\u001b[38;5;241m.\u001b[39mdisplay_formatter\u001b[38;5;241m.\u001b[39mformat(result)\n",
      "File \u001b[1;32mc:\\Users\\liamw\\anaconda3\\Lib\\site-packages\\IPython\\core\\formatters.py:179\u001b[0m, in \u001b[0;36mDisplayFormatter.format\u001b[1;34m(self, obj, include, exclude)\u001b[0m\n\u001b[0;32m    177\u001b[0m md \u001b[38;5;241m=\u001b[39m \u001b[38;5;28;01mNone\u001b[39;00m\n\u001b[0;32m    178\u001b[0m \u001b[38;5;28;01mtry\u001b[39;00m:\n\u001b[1;32m--> 179\u001b[0m     data \u001b[38;5;241m=\u001b[39m formatter(obj)\n\u001b[0;32m    180\u001b[0m \u001b[38;5;28;01mexcept\u001b[39;00m:\n\u001b[0;32m    181\u001b[0m     \u001b[38;5;66;03m# FIXME: log the exception\u001b[39;00m\n\u001b[0;32m    182\u001b[0m     \u001b[38;5;28;01mraise\u001b[39;00m\n",
      "File \u001b[1;32mc:\\Users\\liamw\\anaconda3\\Lib\\site-packages\\decorator.py:232\u001b[0m, in \u001b[0;36mdecorate.<locals>.fun\u001b[1;34m(*args, **kw)\u001b[0m\n\u001b[0;32m    230\u001b[0m \u001b[38;5;28;01mif\u001b[39;00m \u001b[38;5;129;01mnot\u001b[39;00m kwsyntax:\n\u001b[0;32m    231\u001b[0m     args, kw \u001b[38;5;241m=\u001b[39m fix(args, kw, sig)\n\u001b[1;32m--> 232\u001b[0m \u001b[38;5;28;01mreturn\u001b[39;00m caller(func, \u001b[38;5;241m*\u001b[39m(extras \u001b[38;5;241m+\u001b[39m args), \u001b[38;5;241m*\u001b[39m\u001b[38;5;241m*\u001b[39mkw)\n",
      "File \u001b[1;32mc:\\Users\\liamw\\anaconda3\\Lib\\site-packages\\IPython\\core\\formatters.py:223\u001b[0m, in \u001b[0;36mcatch_format_error\u001b[1;34m(method, self, *args, **kwargs)\u001b[0m\n\u001b[0;32m    221\u001b[0m \u001b[38;5;250m\u001b[39m\u001b[38;5;124;03m\"\"\"show traceback on failed format call\"\"\"\u001b[39;00m\n\u001b[0;32m    222\u001b[0m \u001b[38;5;28;01mtry\u001b[39;00m:\n\u001b[1;32m--> 223\u001b[0m     r \u001b[38;5;241m=\u001b[39m method(\u001b[38;5;28mself\u001b[39m, \u001b[38;5;241m*\u001b[39margs, \u001b[38;5;241m*\u001b[39m\u001b[38;5;241m*\u001b[39mkwargs)\n\u001b[0;32m    224\u001b[0m \u001b[38;5;28;01mexcept\u001b[39;00m \u001b[38;5;167;01mNotImplementedError\u001b[39;00m:\n\u001b[0;32m    225\u001b[0m     \u001b[38;5;66;03m# don't warn on NotImplementedErrors\u001b[39;00m\n\u001b[0;32m    226\u001b[0m     \u001b[38;5;28;01mreturn\u001b[39;00m \u001b[38;5;28mself\u001b[39m\u001b[38;5;241m.\u001b[39m_check_return(\u001b[38;5;28;01mNone\u001b[39;00m, args[\u001b[38;5;241m0\u001b[39m])\n",
      "File \u001b[1;32mc:\\Users\\liamw\\anaconda3\\Lib\\site-packages\\IPython\\core\\formatters.py:344\u001b[0m, in \u001b[0;36mBaseFormatter.__call__\u001b[1;34m(self, obj)\u001b[0m\n\u001b[0;32m    342\u001b[0m     method \u001b[38;5;241m=\u001b[39m get_real_method(obj, \u001b[38;5;28mself\u001b[39m\u001b[38;5;241m.\u001b[39mprint_method)\n\u001b[0;32m    343\u001b[0m     \u001b[38;5;28;01mif\u001b[39;00m method \u001b[38;5;129;01mis\u001b[39;00m \u001b[38;5;129;01mnot\u001b[39;00m \u001b[38;5;28;01mNone\u001b[39;00m:\n\u001b[1;32m--> 344\u001b[0m         \u001b[38;5;28;01mreturn\u001b[39;00m method()\n\u001b[0;32m    345\u001b[0m     \u001b[38;5;28;01mreturn\u001b[39;00m \u001b[38;5;28;01mNone\u001b[39;00m\n\u001b[0;32m    346\u001b[0m \u001b[38;5;28;01melse\u001b[39;00m:\n",
      "File \u001b[1;32mc:\\Users\\liamw\\anaconda3\\Lib\\site-packages\\pandas\\core\\frame.py:1175\u001b[0m, in \u001b[0;36mDataFrame._repr_html_\u001b[1;34m(self)\u001b[0m\n\u001b[0;32m   1153\u001b[0m     show_dimensions \u001b[38;5;241m=\u001b[39m get_option(\u001b[38;5;124m\"\u001b[39m\u001b[38;5;124mdisplay.show_dimensions\u001b[39m\u001b[38;5;124m\"\u001b[39m)\n\u001b[0;32m   1155\u001b[0m     formatter \u001b[38;5;241m=\u001b[39m fmt\u001b[38;5;241m.\u001b[39mDataFrameFormatter(\n\u001b[0;32m   1156\u001b[0m         \u001b[38;5;28mself\u001b[39m,\n\u001b[0;32m   1157\u001b[0m         columns\u001b[38;5;241m=\u001b[39m\u001b[38;5;28;01mNone\u001b[39;00m,\n\u001b[1;32m   (...)\u001b[0m\n\u001b[0;32m   1173\u001b[0m         decimal\u001b[38;5;241m=\u001b[39m\u001b[38;5;124m\"\u001b[39m\u001b[38;5;124m.\u001b[39m\u001b[38;5;124m\"\u001b[39m,\n\u001b[0;32m   1174\u001b[0m     )\n\u001b[1;32m-> 1175\u001b[0m     \u001b[38;5;28;01mreturn\u001b[39;00m fmt\u001b[38;5;241m.\u001b[39mDataFrameRenderer(formatter)\u001b[38;5;241m.\u001b[39mto_html(notebook\u001b[38;5;241m=\u001b[39m\u001b[38;5;28;01mTrue\u001b[39;00m)\n\u001b[0;32m   1176\u001b[0m \u001b[38;5;28;01melse\u001b[39;00m:\n\u001b[0;32m   1177\u001b[0m     \u001b[38;5;28;01mreturn\u001b[39;00m \u001b[38;5;28;01mNone\u001b[39;00m\n",
      "File \u001b[1;32mc:\\Users\\liamw\\anaconda3\\Lib\\site-packages\\pandas\\io\\formats\\format.py:1074\u001b[0m, in \u001b[0;36mDataFrameRenderer.to_html\u001b[1;34m(self, buf, encoding, classes, notebook, border, table_id, render_links)\u001b[0m\n\u001b[0;32m   1065\u001b[0m Klass \u001b[38;5;241m=\u001b[39m NotebookFormatter \u001b[38;5;28;01mif\u001b[39;00m notebook \u001b[38;5;28;01melse\u001b[39;00m HTMLFormatter\n\u001b[0;32m   1067\u001b[0m html_formatter \u001b[38;5;241m=\u001b[39m Klass(\n\u001b[0;32m   1068\u001b[0m     \u001b[38;5;28mself\u001b[39m\u001b[38;5;241m.\u001b[39mfmt,\n\u001b[0;32m   1069\u001b[0m     classes\u001b[38;5;241m=\u001b[39mclasses,\n\u001b[1;32m   (...)\u001b[0m\n\u001b[0;32m   1072\u001b[0m     render_links\u001b[38;5;241m=\u001b[39mrender_links,\n\u001b[0;32m   1073\u001b[0m )\n\u001b[1;32m-> 1074\u001b[0m string \u001b[38;5;241m=\u001b[39m html_formatter\u001b[38;5;241m.\u001b[39mto_string()\n\u001b[0;32m   1075\u001b[0m \u001b[38;5;28;01mreturn\u001b[39;00m save_to_buffer(string, buf\u001b[38;5;241m=\u001b[39mbuf, encoding\u001b[38;5;241m=\u001b[39mencoding)\n",
      "File \u001b[1;32mc:\\Users\\liamw\\anaconda3\\Lib\\site-packages\\pandas\\io\\formats\\html.py:88\u001b[0m, in \u001b[0;36mHTMLFormatter.to_string\u001b[1;34m(self)\u001b[0m\n\u001b[0;32m     87\u001b[0m \u001b[38;5;28;01mdef\u001b[39;00m \u001b[38;5;21mto_string\u001b[39m(\u001b[38;5;28mself\u001b[39m) \u001b[38;5;241m-\u001b[39m\u001b[38;5;241m>\u001b[39m \u001b[38;5;28mstr\u001b[39m:\n\u001b[1;32m---> 88\u001b[0m     lines \u001b[38;5;241m=\u001b[39m \u001b[38;5;28mself\u001b[39m\u001b[38;5;241m.\u001b[39mrender()\n\u001b[0;32m     89\u001b[0m     \u001b[38;5;28;01mif\u001b[39;00m \u001b[38;5;28many\u001b[39m(\u001b[38;5;28misinstance\u001b[39m(x, \u001b[38;5;28mstr\u001b[39m) \u001b[38;5;28;01mfor\u001b[39;00m x \u001b[38;5;129;01min\u001b[39;00m lines):\n\u001b[0;32m     90\u001b[0m         lines \u001b[38;5;241m=\u001b[39m [\u001b[38;5;28mstr\u001b[39m(x) \u001b[38;5;28;01mfor\u001b[39;00m x \u001b[38;5;129;01min\u001b[39;00m lines]\n",
      "File \u001b[1;32mc:\\Users\\liamw\\anaconda3\\Lib\\site-packages\\pandas\\io\\formats\\html.py:642\u001b[0m, in \u001b[0;36mNotebookFormatter.render\u001b[1;34m(self)\u001b[0m\n\u001b[0;32m    640\u001b[0m \u001b[38;5;28mself\u001b[39m\u001b[38;5;241m.\u001b[39mwrite(\u001b[38;5;124m\"\u001b[39m\u001b[38;5;124m<div>\u001b[39m\u001b[38;5;124m\"\u001b[39m)\n\u001b[0;32m    641\u001b[0m \u001b[38;5;28mself\u001b[39m\u001b[38;5;241m.\u001b[39mwrite_style()\n\u001b[1;32m--> 642\u001b[0m \u001b[38;5;28msuper\u001b[39m()\u001b[38;5;241m.\u001b[39mrender()\n\u001b[0;32m    643\u001b[0m \u001b[38;5;28mself\u001b[39m\u001b[38;5;241m.\u001b[39mwrite(\u001b[38;5;124m\"\u001b[39m\u001b[38;5;124m</div>\u001b[39m\u001b[38;5;124m\"\u001b[39m)\n\u001b[0;32m    644\u001b[0m \u001b[38;5;28;01mreturn\u001b[39;00m \u001b[38;5;28mself\u001b[39m\u001b[38;5;241m.\u001b[39melements\n",
      "File \u001b[1;32mc:\\Users\\liamw\\anaconda3\\Lib\\site-packages\\pandas\\io\\formats\\html.py:94\u001b[0m, in \u001b[0;36mHTMLFormatter.render\u001b[1;34m(self)\u001b[0m\n\u001b[0;32m     93\u001b[0m \u001b[38;5;28;01mdef\u001b[39;00m \u001b[38;5;21mrender\u001b[39m(\u001b[38;5;28mself\u001b[39m) \u001b[38;5;241m-\u001b[39m\u001b[38;5;241m>\u001b[39m \u001b[38;5;28mlist\u001b[39m[\u001b[38;5;28mstr\u001b[39m]:\n\u001b[1;32m---> 94\u001b[0m     \u001b[38;5;28mself\u001b[39m\u001b[38;5;241m.\u001b[39m_write_table()\n\u001b[0;32m     96\u001b[0m     \u001b[38;5;28;01mif\u001b[39;00m \u001b[38;5;28mself\u001b[39m\u001b[38;5;241m.\u001b[39mshould_show_dimensions:\n\u001b[0;32m     97\u001b[0m         by \u001b[38;5;241m=\u001b[39m \u001b[38;5;28mchr\u001b[39m(\u001b[38;5;241m215\u001b[39m)  \u001b[38;5;66;03m# ×  # noqa: RUF003\u001b[39;00m\n",
      "File \u001b[1;32mc:\\Users\\liamw\\anaconda3\\Lib\\site-packages\\pandas\\io\\formats\\html.py:269\u001b[0m, in \u001b[0;36mHTMLFormatter._write_table\u001b[1;34m(self, indent)\u001b[0m\n\u001b[0;32m    266\u001b[0m \u001b[38;5;28;01mif\u001b[39;00m \u001b[38;5;28mself\u001b[39m\u001b[38;5;241m.\u001b[39mfmt\u001b[38;5;241m.\u001b[39mheader \u001b[38;5;129;01mor\u001b[39;00m \u001b[38;5;28mself\u001b[39m\u001b[38;5;241m.\u001b[39mshow_row_idx_names:\n\u001b[0;32m    267\u001b[0m     \u001b[38;5;28mself\u001b[39m\u001b[38;5;241m.\u001b[39m_write_header(indent \u001b[38;5;241m+\u001b[39m \u001b[38;5;28mself\u001b[39m\u001b[38;5;241m.\u001b[39mindent_delta)\n\u001b[1;32m--> 269\u001b[0m \u001b[38;5;28mself\u001b[39m\u001b[38;5;241m.\u001b[39m_write_body(indent \u001b[38;5;241m+\u001b[39m \u001b[38;5;28mself\u001b[39m\u001b[38;5;241m.\u001b[39mindent_delta)\n\u001b[0;32m    271\u001b[0m \u001b[38;5;28mself\u001b[39m\u001b[38;5;241m.\u001b[39mwrite(\u001b[38;5;124m\"\u001b[39m\u001b[38;5;124m</table>\u001b[39m\u001b[38;5;124m\"\u001b[39m, indent)\n",
      "File \u001b[1;32mc:\\Users\\liamw\\anaconda3\\Lib\\site-packages\\pandas\\io\\formats\\html.py:417\u001b[0m, in \u001b[0;36mHTMLFormatter._write_body\u001b[1;34m(self, indent)\u001b[0m\n\u001b[0;32m    415\u001b[0m \u001b[38;5;28;01mdef\u001b[39;00m \u001b[38;5;21m_write_body\u001b[39m(\u001b[38;5;28mself\u001b[39m, indent: \u001b[38;5;28mint\u001b[39m) \u001b[38;5;241m-\u001b[39m\u001b[38;5;241m>\u001b[39m \u001b[38;5;28;01mNone\u001b[39;00m:\n\u001b[0;32m    416\u001b[0m     \u001b[38;5;28mself\u001b[39m\u001b[38;5;241m.\u001b[39mwrite(\u001b[38;5;124m\"\u001b[39m\u001b[38;5;124m<tbody>\u001b[39m\u001b[38;5;124m\"\u001b[39m, indent)\n\u001b[1;32m--> 417\u001b[0m     fmt_values \u001b[38;5;241m=\u001b[39m \u001b[38;5;28mself\u001b[39m\u001b[38;5;241m.\u001b[39m_get_formatted_values()\n\u001b[0;32m    419\u001b[0m     \u001b[38;5;66;03m# write values\u001b[39;00m\n\u001b[0;32m    420\u001b[0m     \u001b[38;5;28;01mif\u001b[39;00m \u001b[38;5;28mself\u001b[39m\u001b[38;5;241m.\u001b[39mfmt\u001b[38;5;241m.\u001b[39mindex \u001b[38;5;129;01mand\u001b[39;00m \u001b[38;5;28misinstance\u001b[39m(\u001b[38;5;28mself\u001b[39m\u001b[38;5;241m.\u001b[39mframe\u001b[38;5;241m.\u001b[39mindex, MultiIndex):\n",
      "File \u001b[1;32mc:\\Users\\liamw\\anaconda3\\Lib\\site-packages\\pandas\\io\\formats\\html.py:606\u001b[0m, in \u001b[0;36mNotebookFormatter._get_formatted_values\u001b[1;34m(self)\u001b[0m\n\u001b[0;32m    605\u001b[0m \u001b[38;5;28;01mdef\u001b[39;00m \u001b[38;5;21m_get_formatted_values\u001b[39m(\u001b[38;5;28mself\u001b[39m) \u001b[38;5;241m-\u001b[39m\u001b[38;5;241m>\u001b[39m \u001b[38;5;28mdict\u001b[39m[\u001b[38;5;28mint\u001b[39m, \u001b[38;5;28mlist\u001b[39m[\u001b[38;5;28mstr\u001b[39m]]:\n\u001b[1;32m--> 606\u001b[0m     \u001b[38;5;28;01mreturn\u001b[39;00m {i: \u001b[38;5;28mself\u001b[39m\u001b[38;5;241m.\u001b[39mfmt\u001b[38;5;241m.\u001b[39mformat_col(i) \u001b[38;5;28;01mfor\u001b[39;00m i \u001b[38;5;129;01min\u001b[39;00m \u001b[38;5;28mrange\u001b[39m(\u001b[38;5;28mself\u001b[39m\u001b[38;5;241m.\u001b[39mncols)}\n",
      "File \u001b[1;32mc:\\Users\\liamw\\anaconda3\\Lib\\site-packages\\pandas\\io\\formats\\html.py:606\u001b[0m, in \u001b[0;36m<dictcomp>\u001b[1;34m(.0)\u001b[0m\n\u001b[0;32m    605\u001b[0m \u001b[38;5;28;01mdef\u001b[39;00m \u001b[38;5;21m_get_formatted_values\u001b[39m(\u001b[38;5;28mself\u001b[39m) \u001b[38;5;241m-\u001b[39m\u001b[38;5;241m>\u001b[39m \u001b[38;5;28mdict\u001b[39m[\u001b[38;5;28mint\u001b[39m, \u001b[38;5;28mlist\u001b[39m[\u001b[38;5;28mstr\u001b[39m]]:\n\u001b[1;32m--> 606\u001b[0m     \u001b[38;5;28;01mreturn\u001b[39;00m {i: \u001b[38;5;28mself\u001b[39m\u001b[38;5;241m.\u001b[39mfmt\u001b[38;5;241m.\u001b[39mformat_col(i) \u001b[38;5;28;01mfor\u001b[39;00m i \u001b[38;5;129;01min\u001b[39;00m \u001b[38;5;28mrange\u001b[39m(\u001b[38;5;28mself\u001b[39m\u001b[38;5;241m.\u001b[39mncols)}\n",
      "File \u001b[1;32mc:\\Users\\liamw\\anaconda3\\Lib\\site-packages\\pandas\\io\\formats\\format.py:893\u001b[0m, in \u001b[0;36mDataFrameFormatter.format_col\u001b[1;34m(self, i)\u001b[0m\n\u001b[0;32m    891\u001b[0m frame \u001b[38;5;241m=\u001b[39m \u001b[38;5;28mself\u001b[39m\u001b[38;5;241m.\u001b[39mtr_frame\n\u001b[0;32m    892\u001b[0m formatter \u001b[38;5;241m=\u001b[39m \u001b[38;5;28mself\u001b[39m\u001b[38;5;241m.\u001b[39m_get_formatter(i)\n\u001b[1;32m--> 893\u001b[0m \u001b[38;5;28;01mreturn\u001b[39;00m format_array(\n\u001b[0;32m    894\u001b[0m     frame\u001b[38;5;241m.\u001b[39miloc[:, i]\u001b[38;5;241m.\u001b[39m_values,\n\u001b[0;32m    895\u001b[0m     formatter,\n\u001b[0;32m    896\u001b[0m     float_format\u001b[38;5;241m=\u001b[39m\u001b[38;5;28mself\u001b[39m\u001b[38;5;241m.\u001b[39mfloat_format,\n\u001b[0;32m    897\u001b[0m     na_rep\u001b[38;5;241m=\u001b[39m\u001b[38;5;28mself\u001b[39m\u001b[38;5;241m.\u001b[39mna_rep,\n\u001b[0;32m    898\u001b[0m     space\u001b[38;5;241m=\u001b[39m\u001b[38;5;28mself\u001b[39m\u001b[38;5;241m.\u001b[39mcol_space\u001b[38;5;241m.\u001b[39mget(frame\u001b[38;5;241m.\u001b[39mcolumns[i]),\n\u001b[0;32m    899\u001b[0m     decimal\u001b[38;5;241m=\u001b[39m\u001b[38;5;28mself\u001b[39m\u001b[38;5;241m.\u001b[39mdecimal,\n\u001b[0;32m    900\u001b[0m     leading_space\u001b[38;5;241m=\u001b[39m\u001b[38;5;28mself\u001b[39m\u001b[38;5;241m.\u001b[39mindex,\n\u001b[0;32m    901\u001b[0m )\n",
      "File \u001b[1;32mc:\\Users\\liamw\\anaconda3\\Lib\\site-packages\\pandas\\io\\formats\\format.py:1296\u001b[0m, in \u001b[0;36mformat_array\u001b[1;34m(values, formatter, float_format, na_rep, digits, space, justify, decimal, leading_space, quoting, fallback_formatter)\u001b[0m\n\u001b[0;32m   1280\u001b[0m     digits \u001b[38;5;241m=\u001b[39m get_option(\u001b[38;5;124m\"\u001b[39m\u001b[38;5;124mdisplay.precision\u001b[39m\u001b[38;5;124m\"\u001b[39m)\n\u001b[0;32m   1282\u001b[0m fmt_obj \u001b[38;5;241m=\u001b[39m fmt_klass(\n\u001b[0;32m   1283\u001b[0m     values,\n\u001b[0;32m   1284\u001b[0m     digits\u001b[38;5;241m=\u001b[39mdigits,\n\u001b[1;32m   (...)\u001b[0m\n\u001b[0;32m   1293\u001b[0m     fallback_formatter\u001b[38;5;241m=\u001b[39mfallback_formatter,\n\u001b[0;32m   1294\u001b[0m )\n\u001b[1;32m-> 1296\u001b[0m \u001b[38;5;28;01mreturn\u001b[39;00m fmt_obj\u001b[38;5;241m.\u001b[39mget_result()\n",
      "File \u001b[1;32mc:\\Users\\liamw\\anaconda3\\Lib\\site-packages\\pandas\\io\\formats\\format.py:1329\u001b[0m, in \u001b[0;36mGenericArrayFormatter.get_result\u001b[1;34m(self)\u001b[0m\n\u001b[0;32m   1328\u001b[0m \u001b[38;5;28;01mdef\u001b[39;00m \u001b[38;5;21mget_result\u001b[39m(\u001b[38;5;28mself\u001b[39m) \u001b[38;5;241m-\u001b[39m\u001b[38;5;241m>\u001b[39m \u001b[38;5;28mlist\u001b[39m[\u001b[38;5;28mstr\u001b[39m]:\n\u001b[1;32m-> 1329\u001b[0m     fmt_values \u001b[38;5;241m=\u001b[39m \u001b[38;5;28mself\u001b[39m\u001b[38;5;241m.\u001b[39m_format_strings()\n\u001b[0;32m   1330\u001b[0m     \u001b[38;5;28;01mreturn\u001b[39;00m _make_fixed_width(fmt_values, \u001b[38;5;28mself\u001b[39m\u001b[38;5;241m.\u001b[39mjustify)\n",
      "File \u001b[1;32mc:\\Users\\liamw\\anaconda3\\Lib\\site-packages\\pandas\\io\\formats\\format.py:1666\u001b[0m, in \u001b[0;36mExtensionArrayFormatter._format_strings\u001b[1;34m(self)\u001b[0m\n\u001b[0;32m   1663\u001b[0m \u001b[38;5;28;01melse\u001b[39;00m:\n\u001b[0;32m   1664\u001b[0m     array \u001b[38;5;241m=\u001b[39m np\u001b[38;5;241m.\u001b[39masarray(values)\n\u001b[1;32m-> 1666\u001b[0m fmt_values \u001b[38;5;241m=\u001b[39m format_array(\n\u001b[0;32m   1667\u001b[0m     array,\n\u001b[0;32m   1668\u001b[0m     formatter,\n\u001b[0;32m   1669\u001b[0m     float_format\u001b[38;5;241m=\u001b[39m\u001b[38;5;28mself\u001b[39m\u001b[38;5;241m.\u001b[39mfloat_format,\n\u001b[0;32m   1670\u001b[0m     na_rep\u001b[38;5;241m=\u001b[39m\u001b[38;5;28mself\u001b[39m\u001b[38;5;241m.\u001b[39mna_rep,\n\u001b[0;32m   1671\u001b[0m     digits\u001b[38;5;241m=\u001b[39m\u001b[38;5;28mself\u001b[39m\u001b[38;5;241m.\u001b[39mdigits,\n\u001b[0;32m   1672\u001b[0m     space\u001b[38;5;241m=\u001b[39m\u001b[38;5;28mself\u001b[39m\u001b[38;5;241m.\u001b[39mspace,\n\u001b[0;32m   1673\u001b[0m     justify\u001b[38;5;241m=\u001b[39m\u001b[38;5;28mself\u001b[39m\u001b[38;5;241m.\u001b[39mjustify,\n\u001b[0;32m   1674\u001b[0m     decimal\u001b[38;5;241m=\u001b[39m\u001b[38;5;28mself\u001b[39m\u001b[38;5;241m.\u001b[39mdecimal,\n\u001b[0;32m   1675\u001b[0m     leading_space\u001b[38;5;241m=\u001b[39m\u001b[38;5;28mself\u001b[39m\u001b[38;5;241m.\u001b[39mleading_space,\n\u001b[0;32m   1676\u001b[0m     quoting\u001b[38;5;241m=\u001b[39m\u001b[38;5;28mself\u001b[39m\u001b[38;5;241m.\u001b[39mquoting,\n\u001b[0;32m   1677\u001b[0m     fallback_formatter\u001b[38;5;241m=\u001b[39mfallback_formatter,\n\u001b[0;32m   1678\u001b[0m )\n\u001b[0;32m   1679\u001b[0m \u001b[38;5;28;01mreturn\u001b[39;00m fmt_values\n",
      "File \u001b[1;32mc:\\Users\\liamw\\anaconda3\\Lib\\site-packages\\pandas\\io\\formats\\format.py:1296\u001b[0m, in \u001b[0;36mformat_array\u001b[1;34m(values, formatter, float_format, na_rep, digits, space, justify, decimal, leading_space, quoting, fallback_formatter)\u001b[0m\n\u001b[0;32m   1280\u001b[0m     digits \u001b[38;5;241m=\u001b[39m get_option(\u001b[38;5;124m\"\u001b[39m\u001b[38;5;124mdisplay.precision\u001b[39m\u001b[38;5;124m\"\u001b[39m)\n\u001b[0;32m   1282\u001b[0m fmt_obj \u001b[38;5;241m=\u001b[39m fmt_klass(\n\u001b[0;32m   1283\u001b[0m     values,\n\u001b[0;32m   1284\u001b[0m     digits\u001b[38;5;241m=\u001b[39mdigits,\n\u001b[1;32m   (...)\u001b[0m\n\u001b[0;32m   1293\u001b[0m     fallback_formatter\u001b[38;5;241m=\u001b[39mfallback_formatter,\n\u001b[0;32m   1294\u001b[0m )\n\u001b[1;32m-> 1296\u001b[0m \u001b[38;5;28;01mreturn\u001b[39;00m fmt_obj\u001b[38;5;241m.\u001b[39mget_result()\n",
      "File \u001b[1;32mc:\\Users\\liamw\\anaconda3\\Lib\\site-packages\\pandas\\io\\formats\\format.py:1329\u001b[0m, in \u001b[0;36mGenericArrayFormatter.get_result\u001b[1;34m(self)\u001b[0m\n\u001b[0;32m   1328\u001b[0m \u001b[38;5;28;01mdef\u001b[39;00m \u001b[38;5;21mget_result\u001b[39m(\u001b[38;5;28mself\u001b[39m) \u001b[38;5;241m-\u001b[39m\u001b[38;5;241m>\u001b[39m \u001b[38;5;28mlist\u001b[39m[\u001b[38;5;28mstr\u001b[39m]:\n\u001b[1;32m-> 1329\u001b[0m     fmt_values \u001b[38;5;241m=\u001b[39m \u001b[38;5;28mself\u001b[39m\u001b[38;5;241m.\u001b[39m_format_strings()\n\u001b[0;32m   1330\u001b[0m     \u001b[38;5;28;01mreturn\u001b[39;00m _make_fixed_width(fmt_values, \u001b[38;5;28mself\u001b[39m\u001b[38;5;241m.\u001b[39mjustify)\n",
      "File \u001b[1;32mc:\\Users\\liamw\\anaconda3\\Lib\\site-packages\\pandas\\io\\formats\\format.py:1396\u001b[0m, in \u001b[0;36mGenericArrayFormatter._format_strings\u001b[1;34m(self)\u001b[0m\n\u001b[0;32m   1394\u001b[0m \u001b[38;5;28;01mfor\u001b[39;00m i, v \u001b[38;5;129;01min\u001b[39;00m \u001b[38;5;28menumerate\u001b[39m(vals):\n\u001b[0;32m   1395\u001b[0m     \u001b[38;5;28;01mif\u001b[39;00m (\u001b[38;5;129;01mnot\u001b[39;00m is_float_type[i] \u001b[38;5;129;01mor\u001b[39;00m \u001b[38;5;28mself\u001b[39m\u001b[38;5;241m.\u001b[39mformatter \u001b[38;5;129;01mis\u001b[39;00m \u001b[38;5;129;01mnot\u001b[39;00m \u001b[38;5;28;01mNone\u001b[39;00m) \u001b[38;5;129;01mand\u001b[39;00m leading_space:\n\u001b[1;32m-> 1396\u001b[0m         fmt_values\u001b[38;5;241m.\u001b[39mappend(\u001b[38;5;124mf\u001b[39m\u001b[38;5;124m\"\u001b[39m\u001b[38;5;124m \u001b[39m\u001b[38;5;132;01m{\u001b[39;00m_format(v)\u001b[38;5;132;01m}\u001b[39;00m\u001b[38;5;124m\"\u001b[39m)\n\u001b[0;32m   1397\u001b[0m     \u001b[38;5;28;01melif\u001b[39;00m is_float_type[i]:\n\u001b[0;32m   1398\u001b[0m         fmt_values\u001b[38;5;241m.\u001b[39mappend(float_format(v))\n",
      "File \u001b[1;32mc:\\Users\\liamw\\anaconda3\\Lib\\site-packages\\pandas\\io\\formats\\format.py:1376\u001b[0m, in \u001b[0;36mGenericArrayFormatter._format_strings.<locals>._format\u001b[1;34m(x)\u001b[0m\n\u001b[0;32m   1373\u001b[0m     \u001b[38;5;28;01mreturn\u001b[39;00m \u001b[38;5;28mrepr\u001b[39m(x)\n\u001b[0;32m   1374\u001b[0m \u001b[38;5;28;01melse\u001b[39;00m:\n\u001b[0;32m   1375\u001b[0m     \u001b[38;5;66;03m# object dtype\u001b[39;00m\n\u001b[1;32m-> 1376\u001b[0m     \u001b[38;5;28;01mreturn\u001b[39;00m \u001b[38;5;28mstr\u001b[39m(formatter(x))\n",
      "File \u001b[1;32mc:\\Users\\liamw\\anaconda3\\Lib\\site-packages\\geopandas\\array.py:1442\u001b[0m, in \u001b[0;36mGeometryArray._formatter.<locals>.<lambda>\u001b[1;34m(geom)\u001b[0m\n\u001b[0;32m   1438\u001b[0m             \u001b[38;5;28;01melse\u001b[39;00m:\n\u001b[0;32m   1439\u001b[0m                 \u001b[38;5;66;03m# typically projected coordinates\u001b[39;00m\n\u001b[0;32m   1440\u001b[0m                 \u001b[38;5;66;03m# (in case of unit meter: mm precision)\u001b[39;00m\n\u001b[0;32m   1441\u001b[0m                 precision \u001b[38;5;241m=\u001b[39m \u001b[38;5;241m3\u001b[39m\n\u001b[1;32m-> 1442\u001b[0m     \u001b[38;5;28;01mreturn\u001b[39;00m \u001b[38;5;28;01mlambda\u001b[39;00m geom: shapely\u001b[38;5;241m.\u001b[39mwkt\u001b[38;5;241m.\u001b[39mdumps(geom, rounding_precision\u001b[38;5;241m=\u001b[39mprecision)\n\u001b[0;32m   1443\u001b[0m \u001b[38;5;28;01mreturn\u001b[39;00m \u001b[38;5;28mrepr\u001b[39m\n",
      "File \u001b[1;32mc:\\Users\\liamw\\anaconda3\\Lib\\site-packages\\shapely\\wkt.py:62\u001b[0m, in \u001b[0;36mdumps\u001b[1;34m(ob, trim, rounding_precision, **kw)\u001b[0m\n\u001b[0;32m     42\u001b[0m \u001b[38;5;28;01mdef\u001b[39;00m \u001b[38;5;21mdumps\u001b[39m(ob, trim\u001b[38;5;241m=\u001b[39m\u001b[38;5;28;01mFalse\u001b[39;00m, rounding_precision\u001b[38;5;241m=\u001b[39m\u001b[38;5;241m-\u001b[39m\u001b[38;5;241m1\u001b[39m, \u001b[38;5;241m*\u001b[39m\u001b[38;5;241m*\u001b[39mkw):\n\u001b[0;32m     43\u001b[0m \u001b[38;5;250m    \u001b[39m\u001b[38;5;124;03m\"\"\"\u001b[39;00m\n\u001b[0;32m     44\u001b[0m \u001b[38;5;124;03m    Dump a WKT representation of a geometry to a string.\u001b[39;00m\n\u001b[0;32m     45\u001b[0m \n\u001b[1;32m   (...)\u001b[0m\n\u001b[0;32m     60\u001b[0m \u001b[38;5;124;03m    input geometry as WKT string\u001b[39;00m\n\u001b[0;32m     61\u001b[0m \u001b[38;5;124;03m    \"\"\"\u001b[39;00m\n\u001b[1;32m---> 62\u001b[0m     \u001b[38;5;28;01mreturn\u001b[39;00m shapely\u001b[38;5;241m.\u001b[39mto_wkt(ob, trim\u001b[38;5;241m=\u001b[39mtrim, rounding_precision\u001b[38;5;241m=\u001b[39mrounding_precision, \u001b[38;5;241m*\u001b[39m\u001b[38;5;241m*\u001b[39mkw)\n",
      "\u001b[1;31mKeyboardInterrupt\u001b[0m: "
     ]
    }
   ],
   "source": [
    "leases_with_depth_trend.head()"
   ]
  },
  {
   "cell_type": "code",
   "execution_count": null,
   "metadata": {},
   "outputs": [
    {
     "name": "stdout",
     "output_type": "stream",
     "text": [
      "<class 'pandas.core.frame.DataFrame'>\n",
      "Index: 1767 entries, 0 to 124005\n",
      "Data columns (total 3 columns):\n",
      " #   Column                                Non-Null Count  Dtype  \n",
      "---  ------                                --------------  -----  \n",
      " 0   depth_20_year_trend                   460 non-null    float64\n",
      " 1   lease_quadrangle_depth_20_year_trend  1523 non-null   float64\n",
      " 2   nearby_depth_20_year_trend            1101 non-null   float64\n",
      "dtypes: float64(3)\n",
      "memory usage: 55.2 KB\n"
     ]
    }
   ],
   "source": [
    "leases_with_depth_trend[[\n",
    "    \"depth_20_year_trend\", \n",
    "    \"lease_quadrangle_depth_20_year_trend\", \n",
    "    \"nearby_depth_20_year_trend\"]].info()"
   ]
  },
  {
   "cell_type": "code",
   "execution_count": null,
   "metadata": {},
   "outputs": [],
   "source": [
    "# the geometries you have are the nearest_quardrangle, lease_quadrangle, and geometry (the lease)\n",
    "# random change"
   ]
  },
  {
   "cell_type": "code",
   "execution_count": null,
   "metadata": {},
   "outputs": [],
   "source": [
    "depth20=leases_with_depth_trend[\"depth_20_year_trend\"].dropna()"
   ]
  },
  {
   "cell_type": "code",
   "execution_count": null,
   "metadata": {},
   "outputs": [
    {
     "name": "stdout",
     "output_type": "stream",
     "text": [
      "28.717290110539746\n"
     ]
    }
   ],
   "source": [
    "print(depth20.mean())\n"
   ]
  },
  {
   "cell_type": "code",
   "execution_count": null,
   "metadata": {},
   "outputs": [],
   "source": [
    "lease20=leases_with_depth_trend[\"lease_quadrangle_depth_20_year_trend\"].dropna()\n",
    "near20=leases_with_depth_trend[\"nearby_depth_20_year_trend\"].dropna()"
   ]
  },
  {
   "cell_type": "code",
   "execution_count": null,
   "metadata": {},
   "outputs": [],
   "source": [
    "lease20m=(lease20.mean())\n",
    "near20m=(near20.mean())\n",
    "depth20m=(depth20.mean())"
   ]
  },
  {
   "cell_type": "code",
   "execution_count": null,
   "metadata": {},
   "outputs": [
    {
     "name": "stdout",
     "output_type": "stream",
     "text": [
      "lease_\n",
      "0          19.406827\n",
      "1           8.511935\n",
      "4          10.865493\n",
      "6         257.827542\n",
      "15         96.254222\n",
      "             ...    \n",
      "120119     -1.540091\n",
      "120357     68.358357\n",
      "121813     -8.362685\n",
      "122697     -8.620196\n",
      "123013      1.583926\n",
      "Name: depth_20_year_trend, Length: 460, dtype: float64\n"
     ]
    },
    {
     "data": {
      "image/png": "[encoded data removed]",
      "text/plain": [
       "<Figure size 640x480 with 1 Axes>"
      ]
     },
     "metadata": {},
     "output_type": "display_data"
    }
   ],
   "source": [
    "print(depth20)\n",
    "import matplotlib.pyplot as plt\n",
    "\n",
    "# Given data\n",
    "data = [depth20]\n",
    "\n",
    "# Plot histogram\n",
    "plt.hist(data, bins=20, color='blue', edgecolor='black')  # Adjust the number of bins as needed\n",
    "plt.xlabel('Depth')\n",
    "plt.ylabel('Frequency')\n",
    "plt.title('Histogram of Depth_20_year_trend')\n",
    "plt.grid(True)\n",
    "plt.show()\n"
   ]
  },
  {
   "cell_type": "code",
   "execution_count": null,
   "metadata": {},
   "outputs": [
    {
     "data": {
      "text/html": [
       "<div>\n",
       "<style scoped>\n",
       "    .dataframe tbody tr th:only-of-type {\n",
       "        vertical-align: middle;\n",
       "    }\n",
       "\n",
       "    .dataframe tbody tr th {\n",
       "        vertical-align: top;\n",
       "    }\n",
       "\n",
       "    .dataframe thead th {\n",
       "        text-align: right;\n",
       "    }\n",
       "</style>\n",
       "<table border=\"1\" class=\"dataframe\">\n",
       "  <thead>\n",
       "    <tr style=\"text-align: right;\">\n",
       "      <th></th>\n",
       "      <th>nearby_depth_20_year_trend</th>\n",
       "    </tr>\n",
       "    <tr>\n",
       "      <th>lease_</th>\n",
       "      <th></th>\n",
       "    </tr>\n",
       "  </thead>\n",
       "  <tbody>\n",
       "    <tr>\n",
       "      <th>0</th>\n",
       "      <td>NaN</td>\n",
       "    </tr>\n",
       "    <tr>\n",
       "      <th>1</th>\n",
       "      <td>16.450487</td>\n",
       "    </tr>\n",
       "    <tr>\n",
       "      <th>4</th>\n",
       "      <td>31.082192</td>\n",
       "    </tr>\n",
       "    <tr>\n",
       "      <th>6</th>\n",
       "      <td>NaN</td>\n",
       "    </tr>\n",
       "    <tr>\n",
       "      <th>7</th>\n",
       "      <td>21.169569</td>\n",
       "    </tr>\n",
       "    <tr>\n",
       "      <th>...</th>\n",
       "      <td>...</td>\n",
       "    </tr>\n",
       "    <tr>\n",
       "      <th>123642</th>\n",
       "      <td>103.644245</td>\n",
       "    </tr>\n",
       "    <tr>\n",
       "      <th>123719</th>\n",
       "      <td>NaN</td>\n",
       "    </tr>\n",
       "    <tr>\n",
       "      <th>123815</th>\n",
       "      <td>12.688918</td>\n",
       "    </tr>\n",
       "    <tr>\n",
       "      <th>123960</th>\n",
       "      <td>53.870663</td>\n",
       "    </tr>\n",
       "    <tr>\n",
       "      <th>124005</th>\n",
       "      <td>16.450487</td>\n",
       "    </tr>\n",
       "  </tbody>\n",
       "</table>\n",
       "<p>1767 rows × 1 columns</p>\n",
       "</div>"
      ],
      "text/plain": [
       "        nearby_depth_20_year_trend\n",
       "lease_                            \n",
       "0                              NaN\n",
       "1                        16.450487\n",
       "4                        31.082192\n",
       "6                              NaN\n",
       "7                        21.169569\n",
       "...                            ...\n",
       "123642                  103.644245\n",
       "123719                         NaN\n",
       "123815                   12.688918\n",
       "123960                   53.870663\n",
       "124005                   16.450487\n",
       "\n",
       "[1767 rows x 1 columns]"
      ]
     },
     "execution_count": 19,
     "metadata": {},
     "output_type": "execute_result"
    }
   ],
   "source": [
    "wells_on_nearest_quadrangle"
   ]
  },
  {
   "cell_type": "code",
   "execution_count": null,
   "metadata": {},
   "outputs": [
    {
     "data": {
      "text/html": [
       "<div>\n",
       "<style scoped>\n",
       "    .dataframe tbody tr th:only-of-type {\n",
       "        vertical-align: middle;\n",
       "    }\n",
       "\n",
       "    .dataframe tbody tr th {\n",
       "        vertical-align: top;\n",
       "    }\n",
       "\n",
       "    .dataframe thead th {\n",
       "        text-align: right;\n",
       "    }\n",
       "</style>\n",
       "<table border=\"1\" class=\"dataframe\">\n",
       "  <thead>\n",
       "    <tr style=\"text-align: right;\">\n",
       "      <th></th>\n",
       "      <th>lease_quadrangle_depth_20_year_trend</th>\n",
       "    </tr>\n",
       "    <tr>\n",
       "      <th>lease_</th>\n",
       "      <th></th>\n",
       "    </tr>\n",
       "  </thead>\n",
       "  <tbody>\n",
       "    <tr>\n",
       "      <th>0</th>\n",
       "      <td>NaN</td>\n",
       "    </tr>\n",
       "    <tr>\n",
       "      <th>1</th>\n",
       "      <td>11.843229</td>\n",
       "    </tr>\n",
       "    <tr>\n",
       "      <th>4</th>\n",
       "      <td>62.162484</td>\n",
       "    </tr>\n",
       "    <tr>\n",
       "      <th>6</th>\n",
       "      <td>4.999942</td>\n",
       "    </tr>\n",
       "    <tr>\n",
       "      <th>7</th>\n",
       "      <td>10.574822</td>\n",
       "    </tr>\n",
       "    <tr>\n",
       "      <th>...</th>\n",
       "      <td>...</td>\n",
       "    </tr>\n",
       "    <tr>\n",
       "      <th>123642</th>\n",
       "      <td>71.723256</td>\n",
       "    </tr>\n",
       "    <tr>\n",
       "      <th>123719</th>\n",
       "      <td>66.868056</td>\n",
       "    </tr>\n",
       "    <tr>\n",
       "      <th>123815</th>\n",
       "      <td>12.688918</td>\n",
       "    </tr>\n",
       "    <tr>\n",
       "      <th>123960</th>\n",
       "      <td>4.750265</td>\n",
       "    </tr>\n",
       "    <tr>\n",
       "      <th>124005</th>\n",
       "      <td>11.843229</td>\n",
       "    </tr>\n",
       "  </tbody>\n",
       "</table>\n",
       "<p>1767 rows × 1 columns</p>\n",
       "</div>"
      ],
      "text/plain": [
       "        lease_quadrangle_depth_20_year_trend\n",
       "lease_                                      \n",
       "0                                        NaN\n",
       "1                                  11.843229\n",
       "4                                  62.162484\n",
       "6                                   4.999942\n",
       "7                                  10.574822\n",
       "...                                      ...\n",
       "123642                             71.723256\n",
       "123719                             66.868056\n",
       "123815                             12.688918\n",
       "123960                              4.750265\n",
       "124005                             11.843229\n",
       "\n",
       "[1767 rows x 1 columns]"
      ]
     },
     "execution_count": 21,
     "metadata": {},
     "output_type": "execute_result"
    }
   ],
   "source": [
    "wells_on_lease_quadrangle"
   ]
  },
  {
   "cell_type": "code",
   "execution_count": null,
   "metadata": {},
   "outputs": [],
   "source": []
  },
  {
   "cell_type": "code",
   "execution_count": null,
   "metadata": {},
   "outputs": [
    {
     "ename": "ValueError",
     "evalue": "Columns must be same length as key",
     "output_type": "error",
     "traceback": [
      "\u001b[1;31m---------------------------------------------------------------------------\u001b[0m",
      "\u001b[1;31mValueError\u001b[0m                                Traceback (most recent call last)",
      "\u001b[1;32m~\\AppData\\Local\\Temp\\ipykernel_17600\\2077142517.py\u001b[0m in \u001b[0;36m?\u001b[1;34m()\u001b[0m\n\u001b[0;32m      1\u001b[0m \u001b[1;32mimport\u001b[0m \u001b[0mplotly\u001b[0m\u001b[1;33m.\u001b[0m\u001b[0mexpress\u001b[0m \u001b[1;32mas\u001b[0m \u001b[0mpx\u001b[0m\u001b[1;33m\u001b[0m\u001b[1;33m\u001b[0m\u001b[0m\n\u001b[1;32m----> 2\u001b[1;33m \u001b[0mleases_with_depth_trend\u001b[0m\u001b[1;33m[\u001b[0m\u001b[1;34m\"depth_20_year_trend\"\u001b[0m\u001b[1;33m]\u001b[0m \u001b[1;33m=\u001b[0m \u001b[0mpx\u001b[0m\u001b[1;33m.\u001b[0m\u001b[0mdata\u001b[0m\u001b[1;33m.\u001b[0m\u001b[0mtips\u001b[0m\u001b[1;33m(\u001b[0m\u001b[1;33m)\u001b[0m\u001b[1;33m\u001b[0m\u001b[1;33m\u001b[0m\u001b[0m\n\u001b[0m\u001b[0;32m      3\u001b[0m \u001b[0mfig\u001b[0m \u001b[1;33m=\u001b[0m \u001b[0mpx\u001b[0m\u001b[1;33m.\u001b[0m\u001b[0mhistogram\u001b[0m\u001b[1;33m(\u001b[0m\u001b[0mleases_with_depth_trend\u001b[0m\u001b[1;33m,\u001b[0m \u001b[0mx\u001b[0m\u001b[1;33m=\u001b[0m\u001b[1;34m\"total_bill\"\u001b[0m\u001b[1;33m)\u001b[0m\u001b[1;33m\u001b[0m\u001b[1;33m\u001b[0m\u001b[0m\n\u001b[0;32m      4\u001b[0m \u001b[0mfig\u001b[0m\u001b[1;33m.\u001b[0m\u001b[0mshow\u001b[0m\u001b[1;33m(\u001b[0m\u001b[1;33m)\u001b[0m\u001b[1;33m\u001b[0m\u001b[1;33m\u001b[0m\u001b[0m\n",
      "\u001b[1;32mc:\\Users\\liamw\\anaconda3\\Lib\\site-packages\\geopandas\\geodataframe.py\u001b[0m in \u001b[0;36m?\u001b[1;34m(self, key, value)\u001b[0m\n\u001b[0;32m   1539\u001b[0m                 warnings.warn(\n\u001b[0;32m   1540\u001b[0m                     \u001b[1;34m\"Geometry column does not contain geometry.\"\u001b[0m\u001b[1;33m,\u001b[0m\u001b[1;33m\u001b[0m\u001b[1;33m\u001b[0m\u001b[0m\n\u001b[0;32m   1541\u001b[0m                     \u001b[0mstacklevel\u001b[0m\u001b[1;33m=\u001b[0m\u001b[1;36m2\u001b[0m\u001b[1;33m,\u001b[0m\u001b[1;33m\u001b[0m\u001b[1;33m\u001b[0m\u001b[0m\n\u001b[0;32m   1542\u001b[0m                 )\n\u001b[1;32m-> 1543\u001b[1;33m         \u001b[0msuper\u001b[0m\u001b[1;33m(\u001b[0m\u001b[1;33m)\u001b[0m\u001b[1;33m.\u001b[0m\u001b[0m__setitem__\u001b[0m\u001b[1;33m(\u001b[0m\u001b[0mkey\u001b[0m\u001b[1;33m,\u001b[0m \u001b[0mvalue\u001b[0m\u001b[1;33m)\u001b[0m\u001b[1;33m\u001b[0m\u001b[1;33m\u001b[0m\u001b[0m\n\u001b[0m",
      "\u001b[1;32mc:\\Users\\liamw\\anaconda3\\Lib\\site-packages\\pandas\\core\\frame.py\u001b[0m in \u001b[0;36m?\u001b[1;34m(self, key, value)\u001b[0m\n\u001b[0;32m   4077\u001b[0m             \u001b[0mself\u001b[0m\u001b[1;33m.\u001b[0m\u001b[0m_setitem_frame\u001b[0m\u001b[1;33m(\u001b[0m\u001b[0mkey\u001b[0m\u001b[1;33m,\u001b[0m \u001b[0mvalue\u001b[0m\u001b[1;33m)\u001b[0m\u001b[1;33m\u001b[0m\u001b[1;33m\u001b[0m\u001b[0m\n\u001b[0;32m   4078\u001b[0m         \u001b[1;32melif\u001b[0m \u001b[0misinstance\u001b[0m\u001b[1;33m(\u001b[0m\u001b[0mkey\u001b[0m\u001b[1;33m,\u001b[0m \u001b[1;33m(\u001b[0m\u001b[0mSeries\u001b[0m\u001b[1;33m,\u001b[0m \u001b[0mnp\u001b[0m\u001b[1;33m.\u001b[0m\u001b[0mndarray\u001b[0m\u001b[1;33m,\u001b[0m \u001b[0mlist\u001b[0m\u001b[1;33m,\u001b[0m \u001b[0mIndex\u001b[0m\u001b[1;33m)\u001b[0m\u001b[1;33m)\u001b[0m\u001b[1;33m:\u001b[0m\u001b[1;33m\u001b[0m\u001b[1;33m\u001b[0m\u001b[0m\n\u001b[0;32m   4079\u001b[0m             \u001b[0mself\u001b[0m\u001b[1;33m.\u001b[0m\u001b[0m_setitem_array\u001b[0m\u001b[1;33m(\u001b[0m\u001b[0mkey\u001b[0m\u001b[1;33m,\u001b[0m \u001b[0mvalue\u001b[0m\u001b[1;33m)\u001b[0m\u001b[1;33m\u001b[0m\u001b[1;33m\u001b[0m\u001b[0m\n\u001b[0;32m   4080\u001b[0m         \u001b[1;32melif\u001b[0m \u001b[0misinstance\u001b[0m\u001b[1;33m(\u001b[0m\u001b[0mvalue\u001b[0m\u001b[1;33m,\u001b[0m \u001b[0mDataFrame\u001b[0m\u001b[1;33m)\u001b[0m\u001b[1;33m:\u001b[0m\u001b[1;33m\u001b[0m\u001b[1;33m\u001b[0m\u001b[0m\n\u001b[1;32m-> 4081\u001b[1;33m             \u001b[0mself\u001b[0m\u001b[1;33m.\u001b[0m\u001b[0m_set_item_frame_value\u001b[0m\u001b[1;33m(\u001b[0m\u001b[0mkey\u001b[0m\u001b[1;33m,\u001b[0m \u001b[0mvalue\u001b[0m\u001b[1;33m)\u001b[0m\u001b[1;33m\u001b[0m\u001b[1;33m\u001b[0m\u001b[0m\n\u001b[0m\u001b[0;32m   4082\u001b[0m         elif (\n\u001b[0;32m   4083\u001b[0m             \u001b[0mis_list_like\u001b[0m\u001b[1;33m(\u001b[0m\u001b[0mvalue\u001b[0m\u001b[1;33m)\u001b[0m\u001b[1;33m\u001b[0m\u001b[1;33m\u001b[0m\u001b[0m\n\u001b[0;32m   4084\u001b[0m             \u001b[1;32mand\u001b[0m \u001b[1;32mnot\u001b[0m \u001b[0mself\u001b[0m\u001b[1;33m.\u001b[0m\u001b[0mcolumns\u001b[0m\u001b[1;33m.\u001b[0m\u001b[0mis_unique\u001b[0m\u001b[1;33m\u001b[0m\u001b[1;33m\u001b[0m\u001b[0m\n",
      "\u001b[1;32mc:\\Users\\liamw\\anaconda3\\Lib\\site-packages\\pandas\\core\\frame.py\u001b[0m in \u001b[0;36m?\u001b[1;34m(self, key, value)\u001b[0m\n\u001b[0;32m   4205\u001b[0m             \u001b[0mloc\u001b[0m \u001b[1;33m=\u001b[0m \u001b[0mself\u001b[0m\u001b[1;33m.\u001b[0m\u001b[0mcolumns\u001b[0m\u001b[1;33m.\u001b[0m\u001b[0mget_loc\u001b[0m\u001b[1;33m(\u001b[0m\u001b[0mkey\u001b[0m\u001b[1;33m)\u001b[0m\u001b[1;33m\u001b[0m\u001b[1;33m\u001b[0m\u001b[0m\n\u001b[0;32m   4206\u001b[0m             \u001b[0mcols\u001b[0m \u001b[1;33m=\u001b[0m \u001b[0mself\u001b[0m\u001b[1;33m.\u001b[0m\u001b[0mcolumns\u001b[0m\u001b[1;33m[\u001b[0m\u001b[0mloc\u001b[0m\u001b[1;33m]\u001b[0m\u001b[1;33m\u001b[0m\u001b[1;33m\u001b[0m\u001b[0m\n\u001b[0;32m   4207\u001b[0m             \u001b[0mlen_cols\u001b[0m \u001b[1;33m=\u001b[0m \u001b[1;36m1\u001b[0m \u001b[1;32mif\u001b[0m \u001b[0mis_scalar\u001b[0m\u001b[1;33m(\u001b[0m\u001b[0mcols\u001b[0m\u001b[1;33m)\u001b[0m \u001b[1;32mor\u001b[0m \u001b[0misinstance\u001b[0m\u001b[1;33m(\u001b[0m\u001b[0mcols\u001b[0m\u001b[1;33m,\u001b[0m \u001b[0mtuple\u001b[0m\u001b[1;33m)\u001b[0m \u001b[1;32melse\u001b[0m \u001b[0mlen\u001b[0m\u001b[1;33m(\u001b[0m\u001b[0mcols\u001b[0m\u001b[1;33m)\u001b[0m\u001b[1;33m\u001b[0m\u001b[1;33m\u001b[0m\u001b[0m\n\u001b[0;32m   4208\u001b[0m             \u001b[1;32mif\u001b[0m \u001b[0mlen_cols\u001b[0m \u001b[1;33m!=\u001b[0m \u001b[0mlen\u001b[0m\u001b[1;33m(\u001b[0m\u001b[0mvalue\u001b[0m\u001b[1;33m.\u001b[0m\u001b[0mcolumns\u001b[0m\u001b[1;33m)\u001b[0m\u001b[1;33m:\u001b[0m\u001b[1;33m\u001b[0m\u001b[1;33m\u001b[0m\u001b[0m\n\u001b[1;32m-> 4209\u001b[1;33m                 \u001b[1;32mraise\u001b[0m \u001b[0mValueError\u001b[0m\u001b[1;33m(\u001b[0m\u001b[1;34m\"Columns must be same length as key\"\u001b[0m\u001b[1;33m)\u001b[0m\u001b[1;33m\u001b[0m\u001b[1;33m\u001b[0m\u001b[0m\n\u001b[0m\u001b[0;32m   4210\u001b[0m \u001b[1;33m\u001b[0m\u001b[0m\n\u001b[0;32m   4211\u001b[0m             \u001b[1;31m# align right-hand-side columns if self.columns\u001b[0m\u001b[1;33m\u001b[0m\u001b[1;33m\u001b[0m\u001b[0m\n\u001b[0;32m   4212\u001b[0m             \u001b[1;31m# is multi-index and self[key] is a sub-frame\u001b[0m\u001b[1;33m\u001b[0m\u001b[1;33m\u001b[0m\u001b[0m\n",
      "\u001b[1;31mValueError\u001b[0m: Columns must be same length as key"
     ]
    }
   ],
   "source": [
    "import plotly.express as px\n",
    "leases_with_depth_trend[\"depth_20_year_trend\"] = px.data.tips()\n",
    "fig = px.histogram(leases_with_depth_trend, x=\"total_bill\")\n",
    "fig.show()"
   ]
  }
 ],
 "metadata": {
  "kernelspec": {
   "display_name": "base",
   "language": "python",
   "name": "python3"
  },
  "language_info": {
   "codemirror_mode": {
    "name": "ipython",
    "version": 3
   },
   "file_extension": ".py",
   "mimetype": "text/x-python",
   "name": "python",
   "nbconvert_exporter": "python",
   "pygments_lexer": "ipython3",
   "version": "3.11.5"
  }
 },
 "nbformat": 4,
 "nbformat_minor": 2
}
