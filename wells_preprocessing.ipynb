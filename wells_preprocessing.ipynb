{
 "cells": [
  {
   "cell_type": "code",
   "execution_count": null,
   "metadata": {},
   "outputs": [],
   "source": [
    "import geopandas as gpd\n",
    "import pandas as pd\n",
    "import parquet"
   ]
  },
  {
   "cell_type": "code",
   "execution_count": null,
   "metadata": {},
   "outputs": [],
   "source": [
    "wells = pd.read_csv(\"raw_data/cleaned_well_data.csv\")\n",
    "\n",
    "# wells = pd.read_csv(\"raw_data/Well_Registry.csv\")\n",
    "wells['date'] = pd.to_datetime(wells['date']) \n",
    "wells.info()"
   ]
  },
  {
   "cell_type": "code",
   "execution_count": null,
   "metadata": {},
   "outputs": [],
   "source": [
    "wells = wells[wells[\"date\"]>=\"1/1/2000\"]\n",
    "wells = wells[wells[\"date\"]<=\"1/1/2020\"]\n",
    "wells[\"utc_seconds\"] = pd.to_datetime(wells['date']).astype(int)/ 10**9"
   ]
  },
  {
   "cell_type": "code",
   "execution_count": null,
   "metadata": {},
   "outputs": [],
   "source": [
    "wells = wells[wells[\"depth\"].notnull()]\n",
    "wells.info()"
   ]
  },
  {
   "cell_type": "code",
   "execution_count": null,
   "metadata": {},
   "outputs": [],
   "source": [
    "well1 = wells[wells[\"wellid\"]==343957112322001]\n",
    "well1"
   ]
  },
  {
   "cell_type": "code",
   "execution_count": null,
   "metadata": {},
   "outputs": [],
   "source": [
    "import numpy as np\n",
    "well1\n",
    "df_unix_sec = pd.to_datetime(well1['date']).astype(int)/ 10**9\n",
    "f = np.polyfit(well1[\"utc_seconds\"], well1['depth'], deg=1)\n",
    "\n",
    "# Slope\n",
    "f[0]*(60*60*24*365*20)"
   ]
  },
  {
   "cell_type": "code",
   "execution_count": null,
   "metadata": {},
   "outputs": [],
   "source": [
    "def calculate_trend_slope(df):\n",
    "    f = np.polyfit(df[\"utc_seconds\"], df['depth'], deg=1)\n",
    "    # Slope\n",
    "    return f[0]*(60*60*24*365*20)\n"
   ]
  },
  {
   "cell_type": "code",
   "execution_count": null,
   "metadata": {},
   "outputs": [],
   "source": [
    "wells = wells.groupby('wellid').agg({\n",
    "    'SITE_LONGIT_DECIMAL':'first',\n",
    "    'SITE_LATITUDE_DECIMAL':'first',\n",
    "    'depth': lambda x: list(x),\n",
    "    'utc_seconds': lambda x: list(x)\n",
    "    }).reset_index()"
   ]
  },
  {
   "cell_type": "code",
   "execution_count": null,
   "metadata": {},
   "outputs": [],
   "source": [
    "wells"
   ]
  },
  {
   "cell_type": "code",
   "execution_count": null,
   "metadata": {},
   "outputs": [],
   "source": [
    "wells[\"depth_20_year_trend\"] = wells.apply(calculate_trend_slope, axis=1)\n",
    "wells"
   ]
  },
  {
   "cell_type": "code",
   "execution_count": null,
   "metadata": {},
   "outputs": [],
   "source": [
    "wells[wells[\"wellid\"]==343957112322001]"
   ]
  },
  {
   "cell_type": "code",
   "execution_count": null,
   "metadata": {},
   "outputs": [],
   "source": [
    "wells.to_parquet(\"our_data/wells_with_depth_trend.parquet\")"
   ]
  },
  {
   "cell_type": "code",
   "execution_count": null,
   "metadata": {},
   "outputs": [],
   "source": []
  }
 ],
 "metadata": {
  "kernelspec": {
   "display_name": "liam_science_fair",
   "language": "python",
   "name": "python3"
  },
  "language_info": {
   "codemirror_mode": {
    "name": "ipython",
    "version": 3
   },
   "file_extension": ".py",
   "mimetype": "text/x-python",
   "name": "python",
   "nbconvert_exporter": "python",
   "pygments_lexer": "ipython3",
   "version": "3.9.18"
  }
 },
 "nbformat": 4,
 "nbformat_minor": 2
}
