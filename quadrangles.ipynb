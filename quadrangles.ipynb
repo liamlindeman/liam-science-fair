{
 "cells": [
  {
   "cell_type": "code",
   "execution_count": null,
   "metadata": {},
   "outputs": [],
   "source": [
    "import geopandas as gpd\n",
    "import pandas as pd\n",
    "import parquet"
   ]
  },
  {
   "cell_type": "code",
   "execution_count": null,
   "metadata": {},
   "outputs": [],
   "source": [
    "quadrangles = gpd.read_file(\"raw_data/7.5_Minute_Quadrangle_Boundaries-shp\")\n",
    "quadrangles.info()"
   ]
  },
  {
   "cell_type": "code",
   "execution_count": null,
   "metadata": {},
   "outputs": [],
   "source": [
    "leases = gpd.read_file(\"raw_data/ASLD_-_State_Trust_Parcels/ASLD_-_State_Trust_Parcels.shp\")\n",
    "leases.info()"
   ]
  },
  {
   "cell_type": "code",
   "execution_count": null,
   "metadata": {},
   "outputs": [],
   "source": [
    "leases.plot()"
   ]
  },
  {
   "cell_type": "code",
   "execution_count": null,
   "metadata": {},
   "outputs": [],
   "source": [
    "#First we find all quadrangles that overlap with a lease\n",
    "outside_quadrangles = gpd.sjoin(left_df=quadrangles, right_df=leases, how='left', predicate=\"overlaps\")\n",
    "#Next we keep only the quadrangles that did overlap\n",
    "lease_quadrangles = outside_quadrangles[outside_quadrangles['landnum'].notna()]\n",
    "lease_quadrangles = outside_quadrangles[quadrangles.keys()]\n",
    "#Next we keep only the quadrangles that did not overlap\n",
    "outside_quadrangles = outside_quadrangles[outside_quadrangles['landnum'].isna()]\n",
    "outside_quadrangles = outside_quadrangles[quadrangles.keys()]\n",
    "outside_quadrangles.plot()"
   ]
  },
  {
   "cell_type": "code",
   "execution_count": null,
   "metadata": {},
   "outputs": [],
   "source": [
    "outside_quadrangles = outside_quadrangles.to_crs(crs=3857)\n",
    "lease_quadrangles = lease_quadrangles.to_crs(crs=3857)\n",
    "leases = leases.to_crs(crs=3857)\n",
    "outside_quadrangles[\"nearest_quadrangle\"] = outside_quadrangles.geometry\n",
    "lease_quadrangles[\"lease_quadrangle\"] = lease_quadrangles.geometry"
   ]
  },
  {
   "cell_type": "code",
   "execution_count": null,
   "metadata": {},
   "outputs": [],
   "source": [
    "leases_with_nearest_quadrangle = gpd.sjoin_nearest(left_df=leases, right_df=outside_quadrangles, how='left')\n",
    "leases_with_nearest_quadrangle = leases_with_nearest_quadrangle.drop(['index_right'], axis=1)\n",
    "leases_with_nearest_quadrangle = gpd.sjoin_nearest(left_df=leases_with_nearest_quadrangle, right_df=lease_quadrangles, how='left')\n",
    "leases_with_nearest_quadrangle = leases_with_nearest_quadrangle.drop(['index_right'], axis=1)\n",
    "leases_with_nearest_quadrangle.info()"
   ]
  },
  {
   "cell_type": "code",
   "execution_count": null,
   "metadata": {},
   "outputs": [],
   "source": [
    "leases_with_nearest_quadrangle.lease_quadrangle.plot()"
   ]
  },
  {
   "cell_type": "code",
   "execution_count": null,
   "metadata": {},
   "outputs": [],
   "source": [
    "leases_with_nearest_quadrangle.nearest_quadrangle.plot()"
   ]
  },
  {
   "cell_type": "code",
   "execution_count": null,
   "metadata": {},
   "outputs": [],
   "source": [
    "leases.plot()"
   ]
  },
  {
   "cell_type": "code",
   "execution_count": null,
   "metadata": {},
   "outputs": [],
   "source": [
    "leases_with_nearest_quadrangle.to_crs(\"EPSG:4326\").to_parquet(\"our_data/leases_with_nearest_quadrangles.parquet\")"
   ]
  },
  {
   "cell_type": "code",
   "execution_count": null,
   "metadata": {},
   "outputs": [],
   "source": [
    "leases"
   ]
  },
  {
   "cell_type": "code",
   "execution_count": null,
   "metadata": {},
   "outputs": [],
   "source": []
  }
 ],
 "metadata": {
  "kernelspec": {
   "display_name": "liam_science_fair",
   "language": "python",
   "name": "python3"
  },
  "language_info": {
   "codemirror_mode": {
    "name": "ipython",
    "version": 3
   },
   "file_extension": ".py",
   "mimetype": "text/x-python",
   "name": "python",
   "nbconvert_exporter": "python",
   "pygments_lexer": "ipython3",
   "version": "3.9.18"
  }
 },
 "nbformat": 4,
 "nbformat_minor": 2
}
