{
 "cells": [
  {
   "cell_type": "code",
   "execution_count": 152,
   "metadata": {},
   "outputs": [],
   "source": [
    "import geopandas as gpd\n",
    "import pandas as pd"
   ]
  },
  {
   "cell_type": "code",
   "execution_count": 153,
   "metadata": {},
   "outputs": [
    {
     "name": "stdout",
     "output_type": "stream",
     "text": [
      "<class 'geopandas.geodataframe.GeoDataFrame'>\n",
      "Index: 23117 entries, 0 to 23115\n",
      "Data columns (total 38 columns):\n",
      " #   Column              Non-Null Count  Dtype   \n",
      "---  ------              --------------  -----   \n",
      " 0   OBJECTID            23117 non-null  int64   \n",
      " 1   landnum             23117 non-null  object  \n",
      " 2   County              23117 non-null  object  \n",
      " 3   parcel              23117 non-null  int64   \n",
      " 4   fundtxt             23117 non-null  object  \n",
      " 5   open_code           23117 non-null  int64   \n",
      " 6   leased              23117 non-null  object  \n",
      " 7   ke                  23117 non-null  object  \n",
      " 8   lease_              23117 non-null  int64   \n",
      " 9   lse_code            23117 non-null  int64   \n",
      " 10  lse_seq             23117 non-null  int64   \n",
      " 11  effdate             19930 non-null  object  \n",
      " 12  expdate             19930 non-null  object  \n",
      " 13  perpetual           0 non-null      float64 \n",
      " 14  aus                 23117 non-null  float64 \n",
      " 15  rolodex_            23117 non-null  int64   \n",
      " 16  full_name           19930 non-null  object  \n",
      " 17  trs                 23117 non-null  object  \n",
      " 18  legal               23104 non-null  object  \n",
      " 19  acres               23117 non-null  float64 \n",
      " 20  link                19930 non-null  object  \n",
      " 21  total_aus           23117 non-null  float64 \n",
      " 22  Shape__Are          23117 non-null  float64 \n",
      " 23  Shape__Len          23117 non-null  float64 \n",
      " 24  geometry            23117 non-null  geometry\n",
      " 25  FID                 23117 non-null  int64   \n",
      " 26  AREA                23117 non-null  float64 \n",
      " 27  PERIMETER           23117 non-null  float64 \n",
      " 28  QUADGRID_           23117 non-null  int64   \n",
      " 29  QUADGRID_I          23117 non-null  int64   \n",
      " 30  QUAD                23117 non-null  int64   \n",
      " 31  NAME                23117 non-null  object  \n",
      " 32  TILE_NAME           23117 non-null  object  \n",
      " 33  LOCATION            23117 non-null  object  \n",
      " 34  LATLONG_ID          23023 non-null  object  \n",
      " 35  SHAPE_Leng          23117 non-null  float64 \n",
      " 36  SHAPE_Area          23117 non-null  float64 \n",
      " 37  nearest_quadrangle  23117 non-null  geometry\n",
      "dtypes: float64(10), geometry(2), int64(11), object(15)\n",
      "memory usage: 6.9+ MB\n"
     ]
    }
   ],
   "source": [
    "leases = gpd.read_parquet(\"our_data/leases_with_nearest_quadrangles.parquet\")\n",
    "leases.info()"
   ]
  },
  {
   "cell_type": "code",
   "execution_count": 154,
   "metadata": {},
   "outputs": [
    {
     "name": "stdout",
     "output_type": "stream",
     "text": [
      "<class 'geopandas.geodataframe.GeoDataFrame'>\n",
      "RangeIndex: 14978 entries, 0 to 14977\n",
      "Data columns (total 7 columns):\n",
      " #   Column                 Non-Null Count  Dtype   \n",
      "---  ------                 --------------  -----   \n",
      " 0   wellid                 14978 non-null  int64   \n",
      " 1   SITE_LONGIT_DECIMAL    14978 non-null  float64 \n",
      " 2   SITE_LATITUDE_DECIMAL  14978 non-null  float64 \n",
      " 3   depth                  14978 non-null  object  \n",
      " 4   utc_seconds            14978 non-null  object  \n",
      " 5   depth_20_year_trend    14978 non-null  float64 \n",
      " 6   geometry               14978 non-null  geometry\n",
      "dtypes: float64(3), geometry(1), int64(1), object(2)\n",
      "memory usage: 819.2+ KB\n"
     ]
    }
   ],
   "source": [
    "from shapely import wkt\n",
    "wells = pd.read_parquet(\"our_data/wells_with_depth_trend.parquet\")\n",
    "wells['geometry'] = gpd.points_from_xy(\n",
    "    x=wells.SITE_LONGIT_DECIMAL, \n",
    "    y=wells.SITE_LATITUDE_DECIMAL, \n",
    "    crs=\"EPSG:4326\"\n",
    "    )\n",
    "wells = gpd.GeoDataFrame(data=wells, geometry='geometry')\n",
    "wells.info()"
   ]
  },
  {
   "cell_type": "code",
   "execution_count": 155,
   "metadata": {},
   "outputs": [],
   "source": [
    "wells_on_lease = gpd.sjoin(left_df=leases, right_df=wells, how='inner', predicate=\"contains\")\n",
    "wells_on_lease.groupby(\"OBJECTID\").agg({\n",
    "    'depth_20_year_trend':'mean',\n",
    "    })\n",
    "leases_with_depth_trend = leases.merge(wells_on_lease, on=\"OBJECTID\", suffixes = [\"\", \"_y\"])\n",
    "\n",
    "# leases = gpd.join(left_df=leases, right_df = joined_data, on=\"OBJECTID\")"
   ]
  },
  {
   "cell_type": "code",
   "execution_count": 156,
   "metadata": {},
   "outputs": [],
   "source": [
    "leases = leases.set_geometry(\"nearest_quadrangle\").to_crs(\"EPSG:4326\")\n",
    "wells_on_nearest_quadrangle = gpd.sjoin(left_df=leases, right_df=wells, how='inner', predicate=\"contains\")\n",
    "wells_on_nearest_quadrangle.groupby(\"OBJECTID\").agg({\n",
    "    'depth_20_year_trend':'mean',\n",
    "    })\n",
    "wells_on_nearest_quadrangle = wells_on_nearest_quadrangle.rename(columns ={'depth_20_year_trend':'nearby_depth_20_year_trend'})\n",
    "leases_with_depth_trend = leases_with_depth_trend.merge(wells_on_nearest_quadrangle, on=\"OBJECTID\", suffixes=[\"\", \"_x\"])"
   ]
  },
  {
   "cell_type": "code",
   "execution_count": 164,
   "metadata": {},
   "outputs": [
    {
     "name": "stdout",
     "output_type": "stream",
     "text": [
      "14.090323716105638\n",
      "-11.117797746511656\n"
     ]
    }
   ],
   "source": [
    "print(leases_with_depth_trend[\"depth_20_year_trend\"].mean())\n",
    "print(leases_with_depth_trend[\"nearby_depth_20_year_trend\"].mean())"
   ]
  },
  {
   "cell_type": "code",
   "execution_count": null,
   "metadata": {},
   "outputs": [],
   "source": []
  }
 ],
 "metadata": {
  "kernelspec": {
   "display_name": "liam_science_fair",
   "language": "python",
   "name": "python3"
  },
  "language_info": {
   "codemirror_mode": {
    "name": "ipython",
    "version": 3
   },
   "file_extension": ".py",
   "mimetype": "text/x-python",
   "name": "python",
   "nbconvert_exporter": "python",
   "pygments_lexer": "ipython3",
   "version": "3.9.18"
  }
 },
 "nbformat": 4,
 "nbformat_minor": 2
}
