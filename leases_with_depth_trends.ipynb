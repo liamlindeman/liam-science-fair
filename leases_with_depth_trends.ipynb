{
 "cells": [
  {
   "cell_type": "code",
   "execution_count": 1,
   "metadata": {},
   "outputs": [],
   "source": [
    "import geopandas as gpd\n",
    "import pandas as pd"
   ]
  },
  {
   "cell_type": "code",
   "execution_count": 2,
   "metadata": {},
   "outputs": [
    {
     "name": "stdout",
     "output_type": "stream",
     "text": [
      "<class 'geopandas.geodataframe.GeoDataFrame'>\n",
      "Index: 1767 entries, 0 to 124005\n",
      "Data columns (total 50 columns):\n",
      " #   Column              Non-Null Count  Dtype   \n",
      "---  ------              --------------  -----   \n",
      " 0   geometry            1767 non-null   geometry\n",
      " 1   OBJECTID            1767 non-null   int64   \n",
      " 2   landnum             1767 non-null   object  \n",
      " 3   County              1767 non-null   object  \n",
      " 4   parcel              1767 non-null   int64   \n",
      " 5   fundtxt             1767 non-null   object  \n",
      " 6   open_code           1767 non-null   int64   \n",
      " 7   leased              1767 non-null   object  \n",
      " 8   ke                  1767 non-null   object  \n",
      " 9   lse_code            1767 non-null   int64   \n",
      " 10  lse_seq             1767 non-null   int64   \n",
      " 11  effdate             1766 non-null   object  \n",
      " 12  expdate             1766 non-null   object  \n",
      " 13  perpetual           0 non-null      object  \n",
      " 14  aus                 1767 non-null   float64 \n",
      " 15  rolodex_            1767 non-null   int64   \n",
      " 16  full_name           1766 non-null   object  \n",
      " 17  trs                 1767 non-null   object  \n",
      " 18  legal               1767 non-null   object  \n",
      " 19  acres               1767 non-null   float64 \n",
      " 20  link                1766 non-null   object  \n",
      " 21  total_aus           1767 non-null   float64 \n",
      " 22  Shape__Are          1767 non-null   float64 \n",
      " 23  Shape__Len          1767 non-null   float64 \n",
      " 24  FID_left            1767 non-null   int64   \n",
      " 25  AREA_left           1767 non-null   float64 \n",
      " 26  PERIMETER_left      1767 non-null   float64 \n",
      " 27  QUADGRID__left      1767 non-null   int64   \n",
      " 28  QUADGRID_I_left     1767 non-null   int64   \n",
      " 29  QUAD_left           1767 non-null   int64   \n",
      " 30  NAME_left           1767 non-null   object  \n",
      " 31  TILE_NAME_left      1767 non-null   object  \n",
      " 32  LOCATION_left       1767 non-null   object  \n",
      " 33  LATLONG_ID_left     1744 non-null   object  \n",
      " 34  SHAPE_Leng_left     1767 non-null   float64 \n",
      " 35  SHAPE_Area_left     1767 non-null   float64 \n",
      " 36  nearest_quadrangle  1767 non-null   geometry\n",
      " 37  FID_right           1767 non-null   int64   \n",
      " 38  AREA_right          1767 non-null   float64 \n",
      " 39  PERIMETER_right     1767 non-null   float64 \n",
      " 40  QUADGRID__right     1767 non-null   int64   \n",
      " 41  QUADGRID_I_right    1767 non-null   int64   \n",
      " 42  QUAD_right          1767 non-null   int64   \n",
      " 43  NAME_right          1767 non-null   object  \n",
      " 44  TILE_NAME_right     1767 non-null   object  \n",
      " 45  LOCATION_right      1767 non-null   object  \n",
      " 46  LATLONG_ID_right    1767 non-null   object  \n",
      " 47  SHAPE_Leng_right    1767 non-null   float64 \n",
      " 48  SHAPE_Area_right    1767 non-null   float64 \n",
      " 49  lease_quadrangle    1767 non-null   geometry\n",
      "dtypes: float64(13), geometry(3), int64(14), object(20)\n",
      "memory usage: 704.0+ KB\n"
     ]
    }
   ],
   "source": [
    "leases = gpd.read_parquet(\"our_data/leases_with_nearest_quadrangles.parquet\")\n",
    "leases.info()"
   ]
  },
  {
   "cell_type": "code",
   "execution_count": 3,
   "metadata": {},
   "outputs": [
    {
     "name": "stdout",
     "output_type": "stream",
     "text": [
      "<class 'geopandas.geodataframe.GeoDataFrame'>\n",
      "RangeIndex: 14978 entries, 0 to 14977\n",
      "Data columns (total 7 columns):\n",
      " #   Column                 Non-Null Count  Dtype   \n",
      "---  ------                 --------------  -----   \n",
      " 0   wellid                 14978 non-null  int64   \n",
      " 1   SITE_LONGIT_DECIMAL    14978 non-null  float64 \n",
      " 2   SITE_LATITUDE_DECIMAL  14978 non-null  float64 \n",
      " 3   depth                  14978 non-null  object  \n",
      " 4   utc_seconds            14978 non-null  object  \n",
      " 5   depth_20_year_trend    14978 non-null  float64 \n",
      " 6   geometry               14978 non-null  geometry\n",
      "dtypes: float64(3), geometry(1), int64(1), object(2)\n",
      "memory usage: 819.2+ KB\n"
     ]
    }
   ],
   "source": [
    "from shapely import wkt\n",
    "wells = pd.read_parquet(\"our_data/wells_with_depth_trend.parquet\")\n",
    "wells['geometry'] = gpd.points_from_xy(\n",
    "    x=wells.SITE_LONGIT_DECIMAL, \n",
    "    y=wells.SITE_LATITUDE_DECIMAL, \n",
    "    crs=\"EPSG:4326\"\n",
    "    )\n",
    "wells = gpd.GeoDataFrame(data=wells, geometry='geometry')\n",
    "wells.info()"
   ]
  },
  {
   "cell_type": "code",
   "execution_count": 4,
   "metadata": {},
   "outputs": [
    {
     "name": "stdout",
     "output_type": "stream",
     "text": [
      "<class 'geopandas.geodataframe.GeoDataFrame'>\n",
      "Index: 1767 entries, 0 to 124005\n",
      "Data columns (total 51 columns):\n",
      " #   Column               Non-Null Count  Dtype   \n",
      "---  ------               --------------  -----   \n",
      " 0   geometry             1767 non-null   geometry\n",
      " 1   OBJECTID             1767 non-null   int64   \n",
      " 2   landnum              1767 non-null   object  \n",
      " 3   County               1767 non-null   object  \n",
      " 4   parcel               1767 non-null   int64   \n",
      " 5   fundtxt              1767 non-null   object  \n",
      " 6   open_code            1767 non-null   int64   \n",
      " 7   leased               1767 non-null   object  \n",
      " 8   ke                   1767 non-null   object  \n",
      " 9   lse_code             1767 non-null   int64   \n",
      " 10  lse_seq              1767 non-null   int64   \n",
      " 11  effdate              1766 non-null   object  \n",
      " 12  expdate              1766 non-null   object  \n",
      " 13  perpetual            0 non-null      object  \n",
      " 14  aus                  1767 non-null   float64 \n",
      " 15  rolodex_             1767 non-null   int64   \n",
      " 16  full_name            1766 non-null   object  \n",
      " 17  trs                  1767 non-null   object  \n",
      " 18  legal                1767 non-null   object  \n",
      " 19  acres                1767 non-null   float64 \n",
      " 20  link                 1766 non-null   object  \n",
      " 21  total_aus            1767 non-null   float64 \n",
      " 22  Shape__Are           1767 non-null   float64 \n",
      " 23  Shape__Len           1767 non-null   float64 \n",
      " 24  FID_left             1767 non-null   int64   \n",
      " 25  AREA_left            1767 non-null   float64 \n",
      " 26  PERIMETER_left       1767 non-null   float64 \n",
      " 27  QUADGRID__left       1767 non-null   int64   \n",
      " 28  QUADGRID_I_left      1767 non-null   int64   \n",
      " 29  QUAD_left            1767 non-null   int64   \n",
      " 30  NAME_left            1767 non-null   object  \n",
      " 31  TILE_NAME_left       1767 non-null   object  \n",
      " 32  LOCATION_left        1767 non-null   object  \n",
      " 33  LATLONG_ID_left      1744 non-null   object  \n",
      " 34  SHAPE_Leng_left      1767 non-null   float64 \n",
      " 35  SHAPE_Area_left      1767 non-null   float64 \n",
      " 36  nearest_quadrangle   1767 non-null   geometry\n",
      " 37  FID_right            1767 non-null   int64   \n",
      " 38  AREA_right           1767 non-null   float64 \n",
      " 39  PERIMETER_right      1767 non-null   float64 \n",
      " 40  QUADGRID__right      1767 non-null   int64   \n",
      " 41  QUADGRID_I_right     1767 non-null   int64   \n",
      " 42  QUAD_right           1767 non-null   int64   \n",
      " 43  NAME_right           1767 non-null   object  \n",
      " 44  TILE_NAME_right      1767 non-null   object  \n",
      " 45  LOCATION_right       1767 non-null   object  \n",
      " 46  LATLONG_ID_right     1767 non-null   object  \n",
      " 47  SHAPE_Leng_right     1767 non-null   float64 \n",
      " 48  SHAPE_Area_right     1767 non-null   float64 \n",
      " 49  lease_quadrangle     1767 non-null   geometry\n",
      " 50  depth_20_year_trend  460 non-null    float64 \n",
      "dtypes: float64(14), geometry(3), int64(14), object(20)\n",
      "memory usage: 717.8+ KB\n"
     ]
    }
   ],
   "source": [
    "wells_on_lease = gpd.sjoin(left_df=leases, right_df=wells, how='left', predicate=\"contains\")\n",
    "wells_on_lease = wells_on_lease.groupby(\"lease_\").agg({\n",
    "    'depth_20_year_trend':'mean',\n",
    "    })\n",
    "leases_with_depth_trend = leases.merge(wells_on_lease, on=\"lease_\", suffixes = [\"\", \"_y\"])\n",
    "leases_with_depth_trend.info()\n",
    "# leases = gpd.join(left_df=leases, right_df = joined_data, on=\"lease_\")"
   ]
  },
  {
   "cell_type": "code",
   "execution_count": 5,
   "metadata": {},
   "outputs": [
    {
     "name": "stdout",
     "output_type": "stream",
     "text": [
      "<class 'pandas.core.frame.DataFrame'>\n",
      "Index: 1767 entries, 0 to 124005\n",
      "Data columns (total 1 columns):\n",
      " #   Column                      Non-Null Count  Dtype  \n",
      "---  ------                      --------------  -----  \n",
      " 0   nearby_depth_20_year_trend  1101 non-null   float64\n",
      "dtypes: float64(1)\n",
      "memory usage: 27.6 KB\n"
     ]
    }
   ],
   "source": [
    "leases = leases.set_geometry(\"nearest_quadrangle\").set_crs(crs=3857)\n",
    "leases = leases.set_geometry(\"nearest_quadrangle\").to_crs(crs=4326)\n",
    "# leases = leases.set_geometry(\"nearest_quadrangle\").set_crs(\"EPSG:4326\")\n",
    "wells_on_nearest_quadrangle = gpd.sjoin(left_df=leases, right_df=wells, how='left', predicate=\"contains\")\n",
    "wells_on_nearest_quadrangle = wells_on_nearest_quadrangle.groupby(\"lease_\").agg({\n",
    "    'depth_20_year_trend':'mean',\n",
    "    })\n",
    "wells_on_nearest_quadrangle = wells_on_nearest_quadrangle.rename(columns ={'depth_20_year_trend':'nearby_depth_20_year_trend'})\n",
    "wells_on_nearest_quadrangle.info()\n",
    "leases_with_depth_trend = leases_with_depth_trend.merge(wells_on_nearest_quadrangle, on=\"lease_\", suffixes=[\"\", \"_x\"])"
   ]
  },
  {
   "cell_type": "code",
   "execution_count": 6,
   "metadata": {},
   "outputs": [],
   "source": [
    "\n",
    "leases = leases.set_geometry(\"lease_quadrangle\").set_crs(crs=3857)\n",
    "leases = leases.set_geometry(\"lease_quadrangle\").to_crs(crs=4326)\n",
    "# leases = leases.drop(['index_right'], axis=1)\n",
    "\n",
    "wells_on_lease_quadrangle = gpd.sjoin(left_df=leases, right_df=wells, how='left', predicate=\"contains\")\n",
    "wells_on_lease_quadrangle = wells_on_lease_quadrangle.groupby(\"lease_\").agg({\n",
    "    'depth_20_year_trend':'mean',\n",
    "    })\n",
    "wells_on_lease_quadrangle = wells_on_lease_quadrangle.rename(columns ={'depth_20_year_trend':'lease_quadrangle_depth_20_year_trend'})\n",
    "leases_with_depth_trend = leases_with_depth_trend.merge(wells_on_lease_quadrangle, on=\"lease_\", suffixes=[\"\", \"_x\"])"
   ]
  },
  {
   "cell_type": "code",
   "execution_count": 7,
   "metadata": {},
   "outputs": [
    {
     "name": "stdout",
     "output_type": "stream",
     "text": [
      "<class 'geopandas.geodataframe.GeoDataFrame'>\n",
      "Index: 1767 entries, 0 to 124005\n",
      "Data columns (total 53 columns):\n",
      " #   Column                                Non-Null Count  Dtype   \n",
      "---  ------                                --------------  -----   \n",
      " 0   geometry                              1767 non-null   geometry\n",
      " 1   OBJECTID                              1767 non-null   int64   \n",
      " 2   landnum                               1767 non-null   object  \n",
      " 3   County                                1767 non-null   object  \n",
      " 4   parcel                                1767 non-null   int64   \n",
      " 5   fundtxt                               1767 non-null   object  \n",
      " 6   open_code                             1767 non-null   int64   \n",
      " 7   leased                                1767 non-null   object  \n",
      " 8   ke                                    1767 non-null   object  \n",
      " 9   lse_code                              1767 non-null   int64   \n",
      " 10  lse_seq                               1767 non-null   int64   \n",
      " 11  effdate                               1766 non-null   object  \n",
      " 12  expdate                               1766 non-null   object  \n",
      " 13  perpetual                             0 non-null      object  \n",
      " 14  aus                                   1767 non-null   float64 \n",
      " 15  rolodex_                              1767 non-null   int64   \n",
      " 16  full_name                             1766 non-null   object  \n",
      " 17  trs                                   1767 non-null   object  \n",
      " 18  legal                                 1767 non-null   object  \n",
      " 19  acres                                 1767 non-null   float64 \n",
      " 20  link                                  1766 non-null   object  \n",
      " 21  total_aus                             1767 non-null   float64 \n",
      " 22  Shape__Are                            1767 non-null   float64 \n",
      " 23  Shape__Len                            1767 non-null   float64 \n",
      " 24  FID_left                              1767 non-null   int64   \n",
      " 25  AREA_left                             1767 non-null   float64 \n",
      " 26  PERIMETER_left                        1767 non-null   float64 \n",
      " 27  QUADGRID__left                        1767 non-null   int64   \n",
      " 28  QUADGRID_I_left                       1767 non-null   int64   \n",
      " 29  QUAD_left                             1767 non-null   int64   \n",
      " 30  NAME_left                             1767 non-null   object  \n",
      " 31  TILE_NAME_left                        1767 non-null   object  \n",
      " 32  LOCATION_left                         1767 non-null   object  \n",
      " 33  LATLONG_ID_left                       1744 non-null   object  \n",
      " 34  SHAPE_Leng_left                       1767 non-null   float64 \n",
      " 35  SHAPE_Area_left                       1767 non-null   float64 \n",
      " 36  nearest_quadrangle                    1767 non-null   geometry\n",
      " 37  FID_right                             1767 non-null   int64   \n",
      " 38  AREA_right                            1767 non-null   float64 \n",
      " 39  PERIMETER_right                       1767 non-null   float64 \n",
      " 40  QUADGRID__right                       1767 non-null   int64   \n",
      " 41  QUADGRID_I_right                      1767 non-null   int64   \n",
      " 42  QUAD_right                            1767 non-null   int64   \n",
      " 43  NAME_right                            1767 non-null   object  \n",
      " 44  TILE_NAME_right                       1767 non-null   object  \n",
      " 45  LOCATION_right                        1767 non-null   object  \n",
      " 46  LATLONG_ID_right                      1767 non-null   object  \n",
      " 47  SHAPE_Leng_right                      1767 non-null   float64 \n",
      " 48  SHAPE_Area_right                      1767 non-null   float64 \n",
      " 49  lease_quadrangle                      1767 non-null   geometry\n",
      " 50  depth_20_year_trend                   460 non-null    float64 \n",
      " 51  nearby_depth_20_year_trend            1101 non-null   float64 \n",
      " 52  lease_quadrangle_depth_20_year_trend  1523 non-null   float64 \n",
      "dtypes: float64(16), geometry(3), int64(14), object(20)\n",
      "memory usage: 745.5+ KB\n"
     ]
    }
   ],
   "source": [
    "leases_with_depth_trend.info()"
   ]
  },
  {
   "cell_type": "code",
   "execution_count": 8,
   "metadata": {},
   "outputs": [
    {
     "name": "stdout",
     "output_type": "stream",
     "text": [
      "28.717290110539743\n",
      "-58.24896613236815\n",
      "22.302963468363508\n"
     ]
    }
   ],
   "source": [
    "print(leases_with_depth_trend[\"depth_20_year_trend\"].mean())\n",
    "print(leases_with_depth_trend[\"lease_quadrangle_depth_20_year_trend\"].mean())\n",
    "print(leases_with_depth_trend[\"nearby_depth_20_year_trend\"].mean())\n"
   ]
  },
  {
   "cell_type": "code",
   "execution_count": 9,
   "metadata": {},
   "outputs": [],
   "source": [
    "leases_with_depth_trend.to_parquet(\"our_data/processed_data.parquet\")"
   ]
  },
  {
   "cell_type": "code",
   "execution_count": 10,
   "metadata": {},
   "outputs": [
    {
     "name": "stdout",
     "output_type": "stream",
     "text": [
      "<class 'pandas.core.frame.DataFrame'>\n",
      "Index: 1767 entries, 0 to 124005\n",
      "Data columns (total 3 columns):\n",
      " #   Column                                Non-Null Count  Dtype  \n",
      "---  ------                                --------------  -----  \n",
      " 0   depth_20_year_trend                   460 non-null    float64\n",
      " 1   lease_quadrangle_depth_20_year_trend  1523 non-null   float64\n",
      " 2   nearby_depth_20_year_trend            1101 non-null   float64\n",
      "dtypes: float64(3)\n",
      "memory usage: 55.2 KB\n"
     ]
    }
   ],
   "source": [
    "leases_with_depth_trend[[\n",
    "    \"depth_20_year_trend\", \n",
    "    \"lease_quadrangle_depth_20_year_trend\", \n",
    "    \"nearby_depth_20_year_trend\"]].info()"
   ]
  },
  {
   "cell_type": "code",
   "execution_count": 11,
   "metadata": {},
   "outputs": [],
   "source": [
    "# the geometries you have are the nearest_quardrangle, lease_quadrangle, and geometry (the lease)\n",
    "# random change"
   ]
  },
  {
   "cell_type": "code",
   "execution_count": 12,
   "metadata": {},
   "outputs": [
    {
     "data": {
      "text/plain": [
       "<Axes: ylabel='Frequency'>"
      ]
     },
     "execution_count": 12,
     "metadata": {},
     "output_type": "execute_result"
    },
    {
     "data": {
      "image/png": "[encoded data removed]",
      "text/plain": [
       "<Figure size 640x480 with 1 Axes>"
      ]
     },
     "metadata": {},
     "output_type": "display_data"
    }
   ],
   "source": [
    "leases_with_depth_trend[\"depth_20_year_trend\"].plot(kind = 'hist')\n"
   ]
  },
  {
   "cell_type": "code",
   "execution_count": 18,
   "metadata": {},
   "outputs": [
    {
     "data": {
      "image/png": "[encoded data removed]",
      "text/plain": [
       "<Figure size 800x600 with 1 Axes>"
      ]
     },
     "metadata": {},
     "output_type": "display_data"
    }
   ],
   "source": [
    "import matplotlib.pyplot as plt\n",
    "\n",
    "# Data\n",
    "numbers = [28.717290110539743, -58.24896613236815,]\n",
    "labels = ['Leased Land Depth Trend ', 'Nearest Quadrangle Depth Trend']\n",
    "\n",
    "# Plotting\n",
    "plt.figure(figsize=(8, 6))\n",
    "plt.bar(labels, numbers, color='blue')\n",
    "\n",
    "# Adding labels and title\n",
    "plt.ylabel('Depth in Feet ')\n",
    "plt.title('Depth Trends 2000-2020')\n",
    "\n",
    "# Show the plot\n",
    "plt.show()\n"
   ]
  }
 ],
 "metadata": {
  "kernelspec": {
   "display_name": "liam_science_fair",
   "language": "python",
   "name": "python3"
  },
  "language_info": {
   "codemirror_mode": {
    "name": "ipython",
    "version": 3
   },
   "file_extension": ".py",
   "mimetype": "text/x-python",
   "name": "python",
   "nbconvert_exporter": "python",
   "pygments_lexer": "ipython3",
   "version": "3.11.5"
  }
 },
 "nbformat": 4,
 "nbformat_minor": 2
}
