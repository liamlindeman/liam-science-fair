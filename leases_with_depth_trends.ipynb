{
 "cells": [
  {
   "cell_type": "code",
   "execution_count": 1,
   "metadata": {},
   "outputs": [],
   "source": [
    "import geopandas as gpd\n",
    "import pandas as pd"
   ]
  },
  {
   "cell_type": "code",
   "execution_count": 2,
   "metadata": {},
   "outputs": [
    {
     "name": "stdout",
     "output_type": "stream",
     "text": [
      "<class 'geopandas.geodataframe.GeoDataFrame'>\n",
      "Index: 451044 entries, 0 to 23115\n",
      "Data columns (total 51 columns):\n",
      " #   Column              Non-Null Count   Dtype   \n",
      "---  ------              --------------   -----   \n",
      " 0   OBJECTID            451044 non-null  int64   \n",
      " 1   landnum             451044 non-null  object  \n",
      " 2   County              451044 non-null  object  \n",
      " 3   parcel              451044 non-null  int64   \n",
      " 4   fundtxt             451044 non-null  object  \n",
      " 5   open_code           451044 non-null  int64   \n",
      " 6   leased              451044 non-null  object  \n",
      " 7   ke                  451044 non-null  object  \n",
      " 8   lease_              451044 non-null  int64   \n",
      " 9   lse_code            451044 non-null  int64   \n",
      " 10  lse_seq             451044 non-null  int64   \n",
      " 11  effdate             412090 non-null  object  \n",
      " 12  expdate             412090 non-null  object  \n",
      " 13  perpetual           0 non-null       float64 \n",
      " 14  aus                 451044 non-null  float64 \n",
      " 15  rolodex_            451044 non-null  int64   \n",
      " 16  full_name           412090 non-null  object  \n",
      " 17  trs                 451044 non-null  object  \n",
      " 18  legal               450849 non-null  object  \n",
      " 19  acres               451044 non-null  float64 \n",
      " 20  link                412090 non-null  object  \n",
      " 21  total_aus           451044 non-null  float64 \n",
      " 22  Shape__Are          451044 non-null  float64 \n",
      " 23  Shape__Len          451044 non-null  float64 \n",
      " 24  geometry            451044 non-null  geometry\n",
      " 25  FID_left            451044 non-null  int64   \n",
      " 26  AREA_left           451044 non-null  float64 \n",
      " 27  PERIMETER_left      451044 non-null  float64 \n",
      " 28  QUADGRID__left      451044 non-null  int64   \n",
      " 29  QUADGRID_I_left     451044 non-null  int64   \n",
      " 30  QUAD_left           451044 non-null  int64   \n",
      " 31  NAME_left           451044 non-null  object  \n",
      " 32  TILE_NAME_left      451044 non-null  object  \n",
      " 33  LOCATION_left       451044 non-null  object  \n",
      " 34  LATLONG_ID_left     450348 non-null  object  \n",
      " 35  SHAPE_Leng_left     451044 non-null  float64 \n",
      " 36  SHAPE_Area_left     451044 non-null  float64 \n",
      " 37  nearest_quadrangle  451044 non-null  geometry\n",
      " 38  FID_right           451044 non-null  int64   \n",
      " 39  AREA_right          451044 non-null  float64 \n",
      " 40  PERIMETER_right     451044 non-null  float64 \n",
      " 41  QUADGRID__right     451044 non-null  int64   \n",
      " 42  QUADGRID_I_right    451044 non-null  int64   \n",
      " 43  QUAD_right          451044 non-null  int64   \n",
      " 44  NAME_right          451044 non-null  object  \n",
      " 45  TILE_NAME_right     451044 non-null  object  \n",
      " 46  LOCATION_right      451044 non-null  object  \n",
      " 47  LATLONG_ID_right    450925 non-null  object  \n",
      " 48  SHAPE_Leng_right    451044 non-null  float64 \n",
      " 49  SHAPE_Area_right    451044 non-null  float64 \n",
      " 50  lease_quadrangle    451044 non-null  geometry\n",
      "dtypes: float64(14), geometry(3), int64(15), object(19)\n",
      "memory usage: 178.9+ MB\n"
     ]
    }
   ],
   "source": [
    "leases = gpd.read_parquet(\"our_data/leases_with_nearest_quadrangles.parquet\")\n",
    "leases.info()"
   ]
  },
  {
   "cell_type": "code",
   "execution_count": 3,
   "metadata": {},
   "outputs": [
    {
     "name": "stdout",
     "output_type": "stream",
     "text": [
      "<class 'geopandas.geodataframe.GeoDataFrame'>\n",
      "RangeIndex: 14978 entries, 0 to 14977\n",
      "Data columns (total 7 columns):\n",
      " #   Column                 Non-Null Count  Dtype   \n",
      "---  ------                 --------------  -----   \n",
      " 0   wellid                 14978 non-null  int64   \n",
      " 1   SITE_LONGIT_DECIMAL    14978 non-null  float64 \n",
      " 2   SITE_LATITUDE_DECIMAL  14978 non-null  float64 \n",
      " 3   depth                  14978 non-null  object  \n",
      " 4   utc_seconds            14978 non-null  object  \n",
      " 5   depth_20_year_trend    14978 non-null  float64 \n",
      " 6   geometry               14978 non-null  geometry\n",
      "dtypes: float64(3), geometry(1), int64(1), object(2)\n",
      "memory usage: 819.2+ KB\n"
     ]
    }
   ],
   "source": [
    "from shapely import wkt\n",
    "wells = pd.read_parquet(\"our_data/wells_with_depth_trend.parquet\")\n",
    "wells['geometry'] = gpd.points_from_xy(\n",
    "    x=wells.SITE_LONGIT_DECIMAL, \n",
    "    y=wells.SITE_LATITUDE_DECIMAL, \n",
    "    crs=\"EPSG:4326\"\n",
    "    )\n",
    "wells = gpd.GeoDataFrame(data=wells, geometry='geometry')\n",
    "wells.info()"
   ]
  },
  {
   "cell_type": "code",
   "execution_count": 4,
   "metadata": {},
   "outputs": [],
   "source": [
    "wells_on_lease = gpd.sjoin(left_df=leases, right_df=wells, how='inner', predicate=\"contains\")\n",
    "wells_on_lease.groupby(\"OBJECTID\").agg({\n",
    "    'depth_20_year_trend':'mean',\n",
    "    })\n",
    "leases_with_depth_trend = leases.merge(wells_on_lease, on=\"OBJECTID\", suffixes = [\"\", \"_y\"])\n",
    "\n",
    "# leases = gpd.join(left_df=leases, right_df = joined_data, on=\"OBJECTID\")"
   ]
  },
  {
   "cell_type": "code",
   "execution_count": 5,
   "metadata": {},
   "outputs": [
    {
     "ename": "",
     "evalue": "",
     "output_type": "error",
     "traceback": [
      "\u001b[1;31mThe Kernel crashed while executing code in the the current cell or a previous cell. Please review the code in the cell(s) to identify a possible cause of the failure. Click <a href='https://aka.ms/vscodeJupyterKernelCrash'>here</a> for more info. View Jupyter <a href='command:jupyter.viewOutput'>log</a> for further details."
     ]
    }
   ],
   "source": [
    "leases = leases.set_geometry(\"nearest_quadrangle\").to_crs(\"EPSG:4326\")\n",
    "wells_on_nearest_quadrangle = gpd.sjoin(left_df=leases, right_df=wells, how='inner', predicate=\"contains\")\n",
    "wells_on_nearest_quadrangle.groupby(\"OBJECTID\").agg({\n",
    "    'depth_20_year_trend':'mean',\n",
    "    })\n",
    "wells_on_nearest_quadrangle = wells_on_nearest_quadrangle.rename(columns ={'depth_20_year_trend':'nearby_depth_20_year_trend'})\n",
    "leases_with_depth_trend = leases_with_depth_trend.merge(wells_on_nearest_quadrangle, on=\"OBJECTID\", suffixes=[\"\", \"_x\"])"
   ]
  },
  {
   "cell_type": "code",
   "execution_count": null,
   "metadata": {},
   "outputs": [],
   "source": [
    "leases_with_depth_trend = leases_with_depth_trend.set_geometry(\"lease_quadrangle\").to_crs(\"EPSG:4326\")\n",
    "wells_on_lease_quadrangle = gpd.sjoin(left_df=leases_with_depth_trend, right_df=wells, how='inner', predicate=\"contains\")\n",
    "wells_on_lease_quadrangle.groupby(\"OBJECTID\").agg({\n",
    "    'depth_20_year_trend':'mean',\n",
    "    })\n",
    "wells_on_lease_quadrangle = wells_on_lease_quadrangle.rename(columns ={'depth_20_year_trend':'lease_quadrangle_depth_20_year_trend'})\n",
    "leases_with_depth_trend = leases_with_depth_trend.merge(wells_on_lease_quadrangle, on=\"OBJECTID\", suffixes=[\"\", \"_x\"])"
   ]
  },
  {
   "cell_type": "code",
   "execution_count": null,
   "metadata": {},
   "outputs": [],
   "source": [
    "print(leases_with_depth_trend[\"depth_20_year_trend\"].mean())\n",
    "print(leases_with_depth_trend[\"nearby_depth_20_year_trend\"].mean())"
   ]
  },
  {
   "cell_type": "code",
   "execution_count": null,
   "metadata": {},
   "outputs": [],
   "source": [
    "leases_with_depth_trend"
   ]
  },
  {
   "cell_type": "code",
   "execution_count": null,
   "metadata": {},
   "outputs": [],
   "source": []
  }
 ],
 "metadata": {
  "kernelspec": {
   "display_name": "liam_science_fair",
   "language": "python",
   "name": "python3"
  },
  "language_info": {
   "codemirror_mode": {
    "name": "ipython",
    "version": 3
   },
   "file_extension": ".py",
   "mimetype": "text/x-python",
   "name": "python",
   "nbconvert_exporter": "python",
   "pygments_lexer": "ipython3",
   "version": "3.9.18"
  }
 },
 "nbformat": 4,
 "nbformat_minor": 2
}
