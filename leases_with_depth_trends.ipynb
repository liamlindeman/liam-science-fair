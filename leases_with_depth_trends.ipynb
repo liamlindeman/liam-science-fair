{
 "cells": [
  {
   "cell_type": "code",
   "execution_count": null,
   "metadata": {},
   "outputs": [],
   "source": [
    "import geopandas as gpd\n",
    "import pandas as pd"
   ]
  },
  {
   "cell_type": "code",
   "execution_count": null,
   "metadata": {},
   "outputs": [],
   "source": [
    "leases = gpd.read_parquet(\"our_data/leases_with_nearest_quadrangles.parquet\")\n",
    "leases.info()"
   ]
  },
  {
   "cell_type": "code",
   "execution_count": null,
   "metadata": {},
   "outputs": [],
   "source": [
    "from shapely import wkt\n",
    "wells = pd.read_parquet(\"our_data/wells_with_depth_trend.parquet\")\n",
    "wells['geometry'] = gpd.points_from_xy(\n",
    "    x=wells.SITE_LONGIT_DECIMAL, \n",
    "    y=wells.SITE_LATITUDE_DECIMAL, \n",
    "    crs=\"EPSG:4326\"\n",
    "    )\n",
    "wells = gpd.GeoDataFrame(data=wells, geometry='geometry')\n",
    "wells.info()"
   ]
  },
  {
   "cell_type": "code",
   "execution_count": null,
   "metadata": {},
   "outputs": [],
   "source": [
    "wells_on_lease = gpd.sjoin(left_df=leases, right_df=wells, how='inner', predicate=\"contains\")\n",
    "wells_on_lease.groupby(\"OBJECTID\").agg({\n",
    "    'depth_20_year_trend':'mean',\n",
    "    })\n",
    "leases_with_depth_trend = leases.merge(wells_on_lease, on=\"OBJECTID\", suffixes = [\"\", \"_y\"])\n",
    "\n",
    "# leases = gpd.join(left_df=leases, right_df = joined_data, on=\"OBJECTID\")"
   ]
  },
  {
   "cell_type": "code",
   "execution_count": null,
   "metadata": {},
   "outputs": [],
   "source": [
    "leases = leases.set_geometry(\"nearest_quadrangle\").to_crs(\"EPSG:4326\")\n",
    "wells_on_nearest_quadrangle = gpd.sjoin(left_df=leases, right_df=wells, how='inner', predicate=\"contains\")\n",
    "wells_on_nearest_quadrangle.groupby(\"OBJECTID\").agg({\n",
    "    'depth_20_year_trend':'mean',\n",
    "    })\n",
    "wells_on_nearest_quadrangle = wells_on_nearest_quadrangle.rename(columns ={'depth_20_year_trend':'nearby_depth_20_year_trend'})\n",
    "leases_with_depth_trend = leases_with_depth_trend.merge(wells_on_nearest_quadrangle, on=\"OBJECTID\", suffixes=[\"\", \"_x\"])"
   ]
  },
  {
   "cell_type": "code",
   "execution_count": null,
   "metadata": {},
   "outputs": [],
   "source": [
    "leases_with_depth_trend = leases_with_depth_trend.set_geometry(\"lease_quadrangle\").to_crs(\"EPSG:4326\")\n",
    "wells_on_lease_quadrangle = gpd.sjoin(left_df=leases_with_depth_trend, right_df=wells, how='inner', predicate=\"contains\")\n",
    "wells_on_lease_quadrangle.groupby(\"OBJECTID\").agg({\n",
    "    'depth_20_year_trend':'mean',\n",
    "    })\n",
    "wells_on_lease_quadrangle = wells_on_lease_quadrangle.rename(columns ={'depth_20_year_trend':'lease_quadrangle_depth_20_year_trend'})\n",
    "leases_with_depth_trend = leases_with_depth_trend.merge(wells_on_lease_quadrangle, on=\"OBJECTID\", suffixes=[\"\", \"_x\"])"
   ]
  },
  {
   "cell_type": "code",
   "execution_count": null,
   "metadata": {},
   "outputs": [],
   "source": [
    "print(leases_with_depth_trend[\"depth_20_year_trend\"].mean())\n",
    "print(leases_with_depth_trend[\"nearby_depth_20_year_trend\"].mean())"
   ]
  },
  {
   "cell_type": "code",
   "execution_count": null,
   "metadata": {},
   "outputs": [],
   "source": [
    "leases_with_depth_trend"
   ]
  },
  {
   "cell_type": "code",
   "execution_count": null,
   "metadata": {},
   "outputs": [],
   "source": []
  }
 ],
 "metadata": {
  "kernelspec": {
   "display_name": "liam_science_fair",
   "language": "python",
   "name": "python3"
  },
  "language_info": {
   "codemirror_mode": {
    "name": "ipython",
    "version": 3
   },
   "file_extension": ".py",
   "mimetype": "text/x-python",
   "name": "python",
   "nbconvert_exporter": "python",
   "pygments_lexer": "ipython3",
   "version": "3.9.18"
  }
 },
 "nbformat": 4,
 "nbformat_minor": 2
}
