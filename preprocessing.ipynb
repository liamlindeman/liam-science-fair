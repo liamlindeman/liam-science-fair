{
 "cells": [
  {
   "cell_type": "code",
   "execution_count": null,
   "metadata": {},
   "outputs": [],
   "source": [
    "import geopandas as gpd\n",
    "import pandas as pd\n",
    "#Next line is so that we can see all columns in table easily. \n",
    "pd.pandas.set_option('display.max_columns', None)"
   ]
  },
  {
   "cell_type": "code",
   "execution_count": null,
   "metadata": {},
   "outputs": [],
   "source": [
    "leases = gpd.read_file(\"raw_data/ASLD_-_State_Trust_Parcels/ASLD_-_State_Trust_Parcels.shp\")\n",
    "leases.info()"
   ]
  },
  {
   "cell_type": "code",
   "execution_count": null,
   "metadata": {},
   "outputs": [],
   "source": [
    "leases.geometry[1].contains(leases.geometry[0])"
   ]
  },
  {
   "cell_type": "code",
   "execution_count": null,
   "metadata": {},
   "outputs": [],
   "source": [
    "leases.iloc[0]"
   ]
  },
  {
   "cell_type": "code",
   "execution_count": null,
   "metadata": {},
   "outputs": [],
   "source": [
    "wells = pd.read_csv(\"raw_data/cleaned_well_data.csv\")\n",
    "wells.info()"
   ]
  },
  {
   "cell_type": "code",
   "execution_count": null,
   "metadata": {},
   "outputs": [],
   "source": [
    "leases.plot(\"acres\", legend = True)"
   ]
  },
  {
   "cell_type": "code",
   "execution_count": null,
   "metadata": {},
   "outputs": [],
   "source": [
    "leases.to_csv(\"our_data/raw_lease_data.csv\")"
   ]
  },
  {
   "cell_type": "code",
   "execution_count": null,
   "metadata": {},
   "outputs": [],
   "source": [
    "wells['geometry'] = gpd.points_from_xy(\n",
    "    x=wells.SITE_LONGIT_DECIMAL, \n",
    "    y=wells.SITE_LATITUDE_DECIMAL, \n",
    "    crs=\"EPSG:4326\"\n",
    "    )\n",
    "wells = gpd.GeoDataFrame(data=wells, geometry='geometry')\n",
    "wells.plot(\"depth\", legend=True)"
   ]
  },
  {
   "cell_type": "code",
   "execution_count": null,
   "metadata": {},
   "outputs": [],
   "source": [
    "wells = gpd.GeoDataFrame(data=wells, geometry='geometry')\n",
    "wells.info()"
   ]
  },
  {
   "cell_type": "code",
   "execution_count": null,
   "metadata": {},
   "outputs": [],
   "source": [
    "merged_data = leases.sjoin(wells, how=\"left\", predicate='contains')\n",
    "merged_data= merged_data.drop(merged_data[merged_data['leased'] == 'N'].index)\n",
    "merged_data= merged_data[merged_data['leased'] == 'Y']\n",
    "merged_data\n"
   ]
  },
  {
   "cell_type": "code",
   "execution_count": null,
   "metadata": {},
   "outputs": [],
   "source": [
    "merged_data.columns.values"
   ]
  },
  {
   "cell_type": "code",
   "execution_count": null,
   "metadata": {},
   "outputs": [],
   "source": [
    "merged_data_filtered= merged_data.filter(items=['landnum', 'County', 'parcel', 'fundtxt','full_name', 'trs','legal', 'acres','Shape__Are', 'Shape__Len', 'geometry',\n",
    "                                                'depth', 'date',])\n",
    "merged_data_filtered"
   ]
  },
  {
   "cell_type": "code",
   "execution_count": null,
   "metadata": {},
   "outputs": [],
   "source": [
    "Sumacres=merged_data_filtered['acres']\n",
    "Sumacres.sum()\n",
    "Sumacres=Sumacres.sum()\n",
    "print(Sumacres)"
   ]
  },
  {
   "cell_type": "code",
   "execution_count": null,
   "metadata": {},
   "outputs": [],
   "source": [
    "merged_data_filtered.dropna(how='all')"
   ]
  },
  {
   "cell_type": "code",
   "execution_count": null,
   "metadata": {},
   "outputs": [],
   "source": [
    "merged_data_filtered"
   ]
  },
  {
   "cell_type": "code",
   "execution_count": null,
   "metadata": {},
   "outputs": [],
   "source": [
    "merged_data_filtered.boundary.plot()"
   ]
  },
  {
   "cell_type": "code",
   "execution_count": null,
   "metadata": {},
   "outputs": [],
   "source": [
    "wells=wells.to_crs(merged_data_filtered.crs)"
   ]
  },
  {
   "cell_type": "code",
   "execution_count": null,
   "metadata": {},
   "outputs": [],
   "source": [
    "base = leases.plot(color='white', edgecolor='black')\n",
    "\n",
    "wells.plot(ax=base, marker='o', color='red', markersize=5)"
   ]
  },
  {
   "cell_type": "code",
   "execution_count": null,
   "metadata": {},
   "outputs": [],
   "source": [
    "import plotly.express as px\n",
    "\n",
    "fig=px.line(merged_data_filtered, x='date',y='depth')\n",
    "fig.show()"
   ]
  },
  {
   "cell_type": "code",
   "execution_count": null,
   "metadata": {},
   "outputs": [],
   "source": [
    "depthseries=merged_data_filtered['depth']\n",
    "depthseries.dropna()\n",
    "depthseries=depthseries.dropna()\n",
    "depthseries"
   ]
  },
  {
   "cell_type": "code",
   "execution_count": null,
   "metadata": {},
   "outputs": [],
   "source": [
    "dateseries=merged_data_filtered['date']\n",
    "dateseries.dropna()\n",
    "dateseries=dateseries.dropna()\n",
    "dateseries"
   ]
  },
  {
   "cell_type": "code",
   "execution_count": null,
   "metadata": {},
   "outputs": [],
   "source": []
  }
 ],
 "metadata": {
  "kernelspec": {
   "display_name": "liam_science_fair",
   "language": "python",
   "name": "python3"
  },
  "language_info": {
   "codemirror_mode": {
    "name": "ipython",
    "version": 3
   },
   "file_extension": ".py",
   "mimetype": "text/x-python",
   "name": "python",
   "nbconvert_exporter": "python",
   "pygments_lexer": "ipython3",
   "version": "3.11.5"
  }
 },
 "nbformat": 4,
 "nbformat_minor": 2
}
