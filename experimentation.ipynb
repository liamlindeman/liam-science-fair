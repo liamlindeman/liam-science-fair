{
 "cells": [
  {
   "cell_type": "code",
   "execution_count": 1,
   "metadata": {},
   "outputs": [
    {
     "name": "stdout",
     "output_type": "stream",
     "text": [
      "Requirement already satisfied: geopandas in /opt/homebrew/anaconda3/envs/liam_science_fair/lib/python3.9/site-packages (from -r requirements.txt (line 1)) (0.12.2)\n",
      "Requirement already satisfied: pandas in /opt/homebrew/anaconda3/envs/liam_science_fair/lib/python3.9/site-packages (from -r requirements.txt (line 2)) (2.1.1)\n",
      "Requirement already satisfied: pyarrow in /opt/homebrew/anaconda3/envs/liam_science_fair/lib/python3.9/site-packages (from -r requirements.txt (line 3)) (14.0.1)\n",
      "Requirement already satisfied: shapely>=1.7 in /opt/homebrew/anaconda3/envs/liam_science_fair/lib/python3.9/site-packages (from geopandas->-r requirements.txt (line 1)) (2.0.1)\n",
      "Requirement already satisfied: fiona>=1.8 in /opt/homebrew/anaconda3/envs/liam_science_fair/lib/python3.9/site-packages (from geopandas->-r requirements.txt (line 1)) (1.9.1)\n",
      "Requirement already satisfied: pyproj>=2.6.1.post1 in /opt/homebrew/anaconda3/envs/liam_science_fair/lib/python3.9/site-packages (from geopandas->-r requirements.txt (line 1)) (3.1.0)\n",
      "Requirement already satisfied: packaging in /opt/homebrew/anaconda3/envs/liam_science_fair/lib/python3.9/site-packages (from geopandas->-r requirements.txt (line 1)) (23.1)\n",
      "Requirement already satisfied: numpy>=1.22.4 in /opt/homebrew/anaconda3/envs/liam_science_fair/lib/python3.9/site-packages (from pandas->-r requirements.txt (line 2)) (1.26.0)\n",
      "Requirement already satisfied: python-dateutil>=2.8.2 in /opt/homebrew/anaconda3/envs/liam_science_fair/lib/python3.9/site-packages (from pandas->-r requirements.txt (line 2)) (2.8.2)\n",
      "Requirement already satisfied: pytz>=2020.1 in /opt/homebrew/anaconda3/envs/liam_science_fair/lib/python3.9/site-packages (from pandas->-r requirements.txt (line 2)) (2023.3.post1)\n",
      "Requirement already satisfied: tzdata>=2022.1 in /opt/homebrew/anaconda3/envs/liam_science_fair/lib/python3.9/site-packages (from pandas->-r requirements.txt (line 2)) (2023.3)\n",
      "Requirement already satisfied: attrs>=19.2.0 in /opt/homebrew/anaconda3/envs/liam_science_fair/lib/python3.9/site-packages (from fiona>=1.8->geopandas->-r requirements.txt (line 1)) (23.1.0)\n",
      "Requirement already satisfied: certifi in /opt/homebrew/anaconda3/envs/liam_science_fair/lib/python3.9/site-packages (from fiona>=1.8->geopandas->-r requirements.txt (line 1)) (2023.7.22)\n",
      "Requirement already satisfied: click~=8.0 in /opt/homebrew/anaconda3/envs/liam_science_fair/lib/python3.9/site-packages (from fiona>=1.8->geopandas->-r requirements.txt (line 1)) (8.1.7)\n",
      "Requirement already satisfied: click-plugins>=1.0 in /opt/homebrew/anaconda3/envs/liam_science_fair/lib/python3.9/site-packages (from fiona>=1.8->geopandas->-r requirements.txt (line 1)) (1.1.1)\n",
      "Requirement already satisfied: cligj>=0.5 in /opt/homebrew/anaconda3/envs/liam_science_fair/lib/python3.9/site-packages (from fiona>=1.8->geopandas->-r requirements.txt (line 1)) (0.7.2)\n",
      "Requirement already satisfied: munch>=2.3.2 in /opt/homebrew/anaconda3/envs/liam_science_fair/lib/python3.9/site-packages (from fiona>=1.8->geopandas->-r requirements.txt (line 1)) (2.5.0)\n",
      "Requirement already satisfied: setuptools in /opt/homebrew/anaconda3/envs/liam_science_fair/lib/python3.9/site-packages (from fiona>=1.8->geopandas->-r requirements.txt (line 1)) (68.0.0)\n",
      "Requirement already satisfied: six>=1.5 in /opt/homebrew/anaconda3/envs/liam_science_fair/lib/python3.9/site-packages (from python-dateutil>=2.8.2->pandas->-r requirements.txt (line 2)) (1.16.0)\n"
     ]
    }
   ],
   "source": [
    "!python3 -m pip install -r requirements.txt"
   ]
  },
  {
   "cell_type": "code",
   "execution_count": 2,
   "metadata": {},
   "outputs": [],
   "source": [
    "import geopandas as gpd"
   ]
  },
  {
   "cell_type": "code",
   "execution_count": 3,
   "metadata": {},
   "outputs": [],
   "source": [
    "data = gpd.read_parquet(\"our_data/joined_data.parquet\")"
   ]
  },
  {
   "cell_type": "code",
   "execution_count": 4,
   "metadata": {},
   "outputs": [
    {
     "name": "stdout",
     "output_type": "stream",
     "text": [
      "<class 'geopandas.geodataframe.GeoDataFrame'>\n",
      "Index: 28837 entries, 38 to 23108\n",
      "Data columns (total 80 columns):\n",
      " #   Column                      Non-Null Count  Dtype   \n",
      "---  ------                      --------------  -----   \n",
      " 0   OBJECTID                    28837 non-null  int64   \n",
      " 1   landnum                     28837 non-null  object  \n",
      " 2   County                      28837 non-null  object  \n",
      " 3   parcel                      28837 non-null  int64   \n",
      " 4   fundtxt                     28837 non-null  object  \n",
      " 5   open_code                   28837 non-null  int64   \n",
      " 6   leased                      28837 non-null  object  \n",
      " 7   ke                          28837 non-null  object  \n",
      " 8   lease_                      28837 non-null  int64   \n",
      " 9   lse_code                    28837 non-null  int64   \n",
      " 10  lse_seq                     28837 non-null  int64   \n",
      " 11  effdate                     19595 non-null  object  \n",
      " 12  expdate                     19595 non-null  object  \n",
      " 13  perpetual                   0 non-null      float64 \n",
      " 14  aus                         28837 non-null  float64 \n",
      " 15  rolodex_                    28837 non-null  int64   \n",
      " 16  full_name                   19595 non-null  object  \n",
      " 17  trs                         28837 non-null  object  \n",
      " 18  legal                       28837 non-null  object  \n",
      " 19  acres                       28837 non-null  float64 \n",
      " 20  link                        19595 non-null  object  \n",
      " 21  total_aus                   28837 non-null  float64 \n",
      " 22  Shape__Are                  28837 non-null  float64 \n",
      " 23  Shape__Len                  28837 non-null  float64 \n",
      " 24  geometry                    28837 non-null  geometry\n",
      " 25  index_right                 28837 non-null  int64   \n",
      " 26  Unnamed: 0                  28837 non-null  int64   \n",
      " 27  wellid                      28837 non-null  int64   \n",
      " 28  WLWA_ID                     28837 non-null  int64   \n",
      " 29  date                        28806 non-null  object  \n",
      " 30  depth                       27482 non-null  float64 \n",
      " 31  WLWA_WATER_LEVEL_ELEVATION  27482 non-null  float64 \n",
      " 32  WLWA_SOURCE_CODE            28500 non-null  object  \n",
      " 33  WLWA_METHOD_CODE            27695 non-null  object  \n",
      " 34  WLWA_REMARK_CODE            2031 non-null   object  \n",
      " 35  SITE_WELL_ALTITUDE          28837 non-null  float64 \n",
      " 36  SITE_LOCAL_ID               28837 non-null  object  \n",
      " 37  SITE_LATIT_DEGREE           28837 non-null  int64   \n",
      " 38  SITE_LATIT_MIN              28837 non-null  int64   \n",
      " 39  SITE_LATIT_SEC              28837 non-null  float64 \n",
      " 40  SITE_LONGIT_DEGREE          28837 non-null  int64   \n",
      " 41  SITE_LONGIT_MIN             28837 non-null  int64   \n",
      " 42  SITE_LONGIT_SEC             28837 non-null  float64 \n",
      " 43  SITE_ALTMETH_CODE_ENTRY     28837 non-null  object  \n",
      " 44  basinid                     28831 non-null  object  \n",
      " 45  SITE_SISRC_CODE             28837 non-null  object  \n",
      " 46  SITE_SITTYP_CODE_ENTRY      28837 non-null  object  \n",
      " 47  SITE_USE_1                  28831 non-null  object  \n",
      " 48  SITE_TOPOSET_CODE_ENTRY     28831 non-null  object  \n",
      " 49  SITE_USBASN_CODE_ENTRY      28831 non-null  object  \n",
      " 50  SITE_LLACCR_CODE_ENTRY      28837 non-null  object  \n",
      " 51  SITE_RELY_CODE_ENTRY        28837 non-null  object  \n",
      " 52  SITE_STATE_CODE_ENTRY       28837 non-null  object  \n",
      " 53  SITE_WATER_USE1             28812 non-null  object  \n",
      " 54  SITE_ADWRS_CODE             27688 non-null  object  \n",
      " 55  SITE_CNTY_CODE              28837 non-null  int64   \n",
      " 56  SITE_HOLE_DEPTH             26859 non-null  float64 \n",
      " 57  SITE_WELL_DEPTH             25676 non-null  float64 \n",
      " 58  SITE_WELL_REG_ID            23616 non-null  float64 \n",
      " 59  SITE_MERIDIAN               28837 non-null  object  \n",
      " 60  SITE_QUAD_NO                9341 non-null   float64 \n",
      " 61  SITE_GEO_UNIT               2500 non-null   object  \n",
      " 62  SITE_MAP_SCALE              28837 non-null  int64   \n",
      " 63  SITE_LATITUDE_DECIMAL       28837 non-null  float64 \n",
      " 64  SITE_LONGIT_DECIMAL         28837 non-null  float64 \n",
      " 65  SITE_AMA_CODE_ENTRY         28831 non-null  object  \n",
      " 66  SITE_TQNAM_QUAD_NAME        28837 non-null  object  \n",
      " 67  SITE_WATER_USE_2            528 non-null    object  \n",
      " 68  SITE_WATER_USE_3            8 non-null      object  \n",
      " 69  SITE_USE_2                  10021 non-null  object  \n",
      " 70  SITE_LATLONG_METH_CODE      23401 non-null  object  \n",
      " 71  SITE_WSHD_CODE              27958 non-null  float64 \n",
      " 72  SITE_LATLONG_DATUM_CODE     13027 non-null  object  \n",
      " 73  SITE_LATLONG_SOURCE_CODE    13033 non-null  object  \n",
      " 74  SITE_LATLONG_MEASURE_DATE   13026 non-null  object  \n",
      " 75  SITE_ALTITUDE_DATUM_CODE    11764 non-null  object  \n",
      " 76  SITE_ALT_SOURCE_CODE        11764 non-null  object  \n",
      " 77  SITE_ALT_MEASURE_DATE       11763 non-null  object  \n",
      " 78  SITE_LOCAL_ID_SOURCE_CODE   11534 non-null  object  \n",
      " 79  SITE_LOCAL_ID_MEASURE_DATE  11533 non-null  object  \n",
      "dtypes: float64(18), geometry(1), int64(17), object(44)\n",
      "memory usage: 17.8+ MB\n"
     ]
    }
   ],
   "source": [
    "data.info()"
   ]
  },
  {
   "cell_type": "code",
   "execution_count": null,
   "metadata": {},
   "outputs": [],
   "source": []
  }
 ],
 "metadata": {
  "kernelspec": {
   "display_name": "liam_science_fair",
   "language": "python",
   "name": "python3"
  },
  "language_info": {
   "codemirror_mode": {
    "name": "ipython",
    "version": 3
   },
   "file_extension": ".py",
   "mimetype": "text/x-python",
   "name": "python",
   "nbconvert_exporter": "python",
   "pygments_lexer": "ipython3",
   "version": "3.9.18"
  }
 },
 "nbformat": 4,
 "nbformat_minor": 2
}
