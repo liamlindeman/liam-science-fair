{
 "cells": [
  {
   "cell_type": "code",
   "execution_count": 2,
   "metadata": {},
   "outputs": [],
   "source": [
    "import geopandas"
   ]
  },
  {
   "cell_type": "code",
   "execution_count": 4,
   "metadata": {},
   "outputs": [],
   "source": [
    "data = geopandas.read_file(\"data/ASLD_-_State_Trust_Parcels/ASLD_-_State_Trust_Parcels.shp\")"
   ]
  },
  {
   "cell_type": "code",
   "execution_count": 6,
   "metadata": {},
   "outputs": [
    {
     "name": "stdout",
     "output_type": "stream",
     "text": [
      "<class 'geopandas.geodataframe.GeoDataFrame'>\n",
      "RangeIndex: 23116 entries, 0 to 23115\n",
      "Data columns (total 25 columns):\n",
      " #   Column      Non-Null Count  Dtype   \n",
      "---  ------      --------------  -----   \n",
      " 0   OBJECTID    23116 non-null  int64   \n",
      " 1   landnum     23116 non-null  object  \n",
      " 2   County      23116 non-null  object  \n",
      " 3   parcel      23116 non-null  int64   \n",
      " 4   fundtxt     23116 non-null  object  \n",
      " 5   open_code   23116 non-null  int64   \n",
      " 6   leased      23116 non-null  object  \n",
      " 7   ke          23116 non-null  object  \n",
      " 8   lease_      23116 non-null  int64   \n",
      " 9   lse_code    23116 non-null  int64   \n",
      " 10  lse_seq     23116 non-null  int64   \n",
      " 11  effdate     19929 non-null  object  \n",
      " 12  expdate     19929 non-null  object  \n",
      " 13  perpetual   0 non-null      float64 \n",
      " 14  aus         23116 non-null  float64 \n",
      " 15  rolodex_    23116 non-null  int64   \n",
      " 16  full_name   19929 non-null  object  \n",
      " 17  trs         23116 non-null  object  \n",
      " 18  legal       23103 non-null  object  \n",
      " 19  acres       23116 non-null  float64 \n",
      " 20  link        19929 non-null  object  \n",
      " 21  total_aus   23116 non-null  float64 \n",
      " 22  Shape__Are  23116 non-null  float64 \n",
      " 23  Shape__Len  23116 non-null  float64 \n",
      " 24  geometry    23116 non-null  geometry\n",
      "dtypes: float64(6), geometry(1), int64(7), object(11)\n",
      "memory usage: 4.4+ MB\n"
     ]
    }
   ],
   "source": [
    "data.info()"
   ]
  },
  {
   "cell_type": "code",
   "execution_count": null,
   "metadata": {},
   "outputs": [],
   "source": []
  }
 ],
 "metadata": {
  "kernelspec": {
   "display_name": "liam_science_fair",
   "language": "python",
   "name": "python3"
  },
  "language_info": {
   "codemirror_mode": {
    "name": "ipython",
    "version": 3
   },
   "file_extension": ".py",
   "mimetype": "text/x-python",
   "name": "python",
   "nbconvert_exporter": "python",
   "pygments_lexer": "ipython3",
   "version": "3.9.18"
  }
 },
 "nbformat": 4,
 "nbformat_minor": 2
}
